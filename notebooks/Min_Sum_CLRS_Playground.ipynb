{
 "cells": [
  {
   "cell_type": "code",
   "execution_count": 1,
   "metadata": {
    "colab": {
     "base_uri": "https://localhost:8080/"
    },
    "id": "2MzxRB1X7hRs",
    "outputId": "eee4d47e-b689-497b-e9b5-021121cac2b7"
   },
   "outputs": [
    {
     "name": "stderr",
     "output_type": "stream",
     "text": [
      "2023-05-25 00:08:50.257262: W tensorflow/compiler/tf2tensorrt/utils/py_utils.cc:38] TF-TRT Warning: Could not find TensorRT\n",
      "/home/anders/miniconda3/envs/clrs/lib/python3.11/site-packages/tqdm/auto.py:21: TqdmWarning: IProgress not found. Please update jupyter and ipywidgets. See https://ipywidgets.readthedocs.io/en/stable/user_install.html\n",
      "  from .autonotebook import tqdm as notebook_tqdm\n",
      "No GPU/TPU found, falling back to CPU. (Set TF_CPP_MIN_LOG_LEVEL=0 and rerun for more info.)\n"
     ]
    }
   ],
   "source": [
    "import clrs\n",
    "import numpy as np\n",
    "import jax\n",
    "import jax.numpy as jnp\n",
    "import matplotlib.pyplot as plt\n",
    "import pprint\n",
    "from scipy.optimize import linear_sum_assignment\n",
    "\n",
    "rng = np.random.RandomState(1234)\n",
    "rng_key = jax.random.PRNGKey(rng.randint(2 ** 32))\n",
    "\n",
    "%load_ext autoreload\n",
    "%autoreload 2"
   ]
  },
  {
   "cell_type": "code",
   "execution_count": 2,
   "metadata": {},
   "outputs": [],
   "source": [
    "#  \"# =================== BIPARTITE GRAPH GENERATOR SPECS =========================\\n\",\n",
    "#   \"# - Erdos Reyni (ER)\\n\",\n",
    "#   \"#     Generates an Erdos-Reyni random graph with edge probability [p]. If\\n\",\n",
    "#   \"#       [weighted], edge weights are iid uniform([low], [high])\\n\",\n",
    "#   \"#\\n\",\n",
    "#   \"#     {'generator': ER, 'weighted': False, 'p': 0.5, 'low': 0.0, 'high': 1.0}\\n\",\n",
    "#   \"#\\n\",\n",
    "#   \"# - Barabasi-Albert (BA)\\n\",\n",
    "#   \"#     Generates a Barabasi-Albert random graph with parameter [ba_param]. If\\n\",\n",
    "#   \"#       [weighted], edge weights are iid uniform([low], [high])\\n\",\n",
    "#   \"#\\n\",\n",
    "#   \"#     {'generator': BA, 'ba_param': 1, 'weighted': False, 'low': 0.0, 'high': 1.0}\\n\",\n",
    "#   \"#\\n\",\n",
    "#   \"# - Geometric (GEOMETRIC)\\n\",\n",
    "#   \"#     Generates a random graph by embedding nodes uniformly over the unit\\n\",\n",
    "#   \"#       square. Edge weights are the euclidean distance between two nodes,\\n\",\n",
    "#   \"#       with weights below [threshold] set to 0, then scaled by [scaling].\\n\",\n",
    "#   \"#\\n\",\n",
    "#   \"#     {'generator': GEOMETRIC, 'threshold': 0.25, 'scaling': 1.0}\\n\",\n",
    "#   \"#\\n\",\n",
    "#   \"# - Flow (FLOW)\\n\",\n",
    "#   \"#     Generates a random ER reduction to a max flow input, with edge\\n\",\n",
    "#   \"#       probability [p].\\n\",\n",
    "#   \"#     {'generator': FLOW, 'p': 0.5}\\n\",\n",
    "#   \"\\n\",\n",
    "#   \"\\n\",\n",
    "#   \"\\n\","
   ]
  },
  {
   "cell_type": "code",
   "execution_count": 3,
   "metadata": {
    "colab": {
     "base_uri": "https://localhost:8080/"
    },
    "id": "OEo_Gj1j3Z6M",
    "outputId": "5ef53c51-9bc2-4a49-b4cf-592a32dfa5b7"
   },
   "outputs": [],
   "source": [
    "# If you don't want BipartiteMatching, just pass empty generator list and\n",
    "# length separately\n",
    "\n",
    "sampler_spec = {\n",
    "    'num_samples': 100,\n",
    "    'batch_size': 32,\n",
    "    'schematics': [\n",
    "        {\n",
    "            'generator': 'ER',\n",
    "            'proportion': 0.5,\n",
    "            'length': 16,\n",
    "            'kwargs': {'p': 1, 'low': 5, 'high': 100, 'weighted': True}\n",
    "        },\n",
    "        {\n",
    "            'generator': 'ER',\n",
    "            'proportion': 0.5,\n",
    "            'length': 16,\n",
    "            'kwargs': {'p': 1, 'low': 1, 'high': 1.0001, 'weighted': True}\n",
    "        },\n",
    "    ]\n",
    "}\n",
    "\n",
    "def samplers(sampler_spec, batch_size, **kwargs):\n",
    "\n",
    "    def _iterate_sampler(sampler, batch_size):\n",
    "        while True:\n",
    "            yield sampler.next(batch_size)\n",
    "\n",
    "    sampler, spec = clrs.build_sampler(\n",
    "        name = 'simplified_min_sum',\n",
    "        sampler_spec = sampler_spec,\n",
    "        **kwargs)  # number of nodes\n",
    "\n",
    "    sampler = _iterate_sampler(sampler, batch_size = batch_size)\n",
    "    return sampler, spec\n",
    "\n",
    "train_sampler, spec = samplers(sampler_spec, 1)"
   ]
  },
  {
   "cell_type": "code",
   "execution_count": 4,
   "metadata": {
    "id": "L-p0jOCq5sPV"
   },
   "outputs": [],
   "source": [
    "def define_model(spec, train_sampler, model = \"mpnn\"):\n",
    "    if model == \"mpnn\":\n",
    "        processor_factory = clrs.get_processor_factory('mpnn', use_ln = True,\n",
    "                                                   nb_triplet_fts = 0)  #use_ln => use layer norm\n",
    "    elif model == \"gat\":\n",
    "        processor_factory = clrs.get_processor_factory('gat', use_ln=True, nb_heads = 4, nb_triplet_fts = 0)\n",
    "\n",
    "    model_params = dict(\n",
    "        processor_factory = processor_factory,  # contains the processor_factory\n",
    "        hidden_dim = 32,  # TODO put back to 32 if no difference\n",
    "        encode_hints = True,\n",
    "        decode_hints = True,\n",
    "        #decode_diffs=False,\n",
    "        #hint_teacher_forcing_noise=1.0,\n",
    "        hint_teacher_forcing = 1.0,\n",
    "        use_lstm = False,\n",
    "        learning_rate = 0.001,\n",
    "        checkpoint_path = '/tmp/checkpt',\n",
    "        freeze_processor = False,  # Good for post step\n",
    "        dropout_prob = 0.5,\n",
    "        # nb_msg_passing_steps=3,\n",
    "    )\n",
    "\n",
    "    dummy_trajectory = next(train_sampler)  # jax needs a trajectory that is plausible looking to init\n",
    "\n",
    "    model = clrs.models.BaselineModel(\n",
    "        spec = spec,\n",
    "        dummy_trajectory = dummy_trajectory,\n",
    "        **model_params\n",
    "    )\n",
    "\n",
    "    model.init(dummy_trajectory.features, 1234)  # 1234 is a random seed\n",
    "\n",
    "    return model\n",
    "\n",
    "model = define_model(spec, train_sampler, \"mpnn\")"
   ]
  },
  {
   "cell_type": "code",
   "execution_count": null,
   "metadata": {
    "collapsed": false
   },
   "outputs": [],
   "source": [
    "# No evaluation since we are postprocessing with soft: TO CHANGE -> baselines.py line 336 outs change hard to False\n",
    "# step = 0\n",
    "#\n",
    "# while step <= 1:\n",
    "#     feedback, test_feedback = next(train_sampler), next(test_sampler)\n",
    "#     rng_key, new_rng_key = jax.random.split(rng_key) # jax needs new random seed at step\n",
    "#     cur_loss = model.feedback(rng_key, feedback) # loss is contained in model somewhere\n",
    "#     rng_key = new_rng_key\n",
    "#     if step % 10 == 0:\n",
    "#         print(step)\n",
    "#     step += 1\n",
    "\n"
   ]
  },
  {
   "cell_type": "code",
   "execution_count": 14,
   "metadata": {
    "colab": {
     "base_uri": "https://localhost:8080/"
    },
    "id": "3pSKQ2wi62Br",
    "outputId": "b1acd203-e256-4f39-e059-9c7e55942a87"
   },
   "outputs": [],
   "source": [
    "def train(model, epochs, train_sampler, test_sampler):\n",
    "    step = 0\n",
    "    rng_key = jax.random.PRNGKey(rng.randint(2 ** 32))\n",
    "    while step < epochs:\n",
    "        feedback, test_feedback = next(train_sampler), next(test_sampler)\n",
    "        # TODO remove - testing if uses hints on tests\n",
    "        # shape = test_feedback.features.hints[0].data[0].shape\n",
    "        # test_feedback.features.hints[0].data = test_feedback.features.hints[0].data[0, :, :].reshape((1, *shape))\n",
    "        rng_key, new_rng_key = jax.random.split(rng_key)  # jax needs new random seed at step\n",
    "        cur_loss = model.feedback(rng_key, feedback)  # loss is contained in model somewhere\n",
    "        rng_key = new_rng_key\n",
    "        if step % 10 == 0:\n",
    "            predictions_val, _ = model.predict(rng_key, feedback.features)\n",
    "            out_val = clrs.evaluate(feedback.outputs, predictions_val)\n",
    "            predictions, _ = model.predict(rng_key, test_feedback.features)\n",
    "            out = clrs.evaluate(test_feedback.outputs, predictions)\n",
    "            print(\n",
    "                f'step = {step} | loss = {cur_loss} | val_acc = {out_val[\"score\"]} | test_acc = {out[\"score\"]}')  # here, val accuracy is actually training accuracy, not great but is example\n",
    "        step += 1\n",
    "    return model"
   ]
  },
  {
   "cell_type": "code",
   "execution_count": 6,
   "metadata": {
    "collapsed": false
   },
   "outputs": [],
   "source": [
    "\n",
    "\n",
    "\n",
    "def matching_value(samples, predictions, partial = False, match_rest = False, opt_scipy = False):\n",
    "    features = samples.features\n",
    "    gt_matchings = samples.outputs[0].data\n",
    "    # inputs for the matrix A are at index 1 (see spec.py)\n",
    "    data = features.inputs[1].data\n",
    "    masks = features.inputs[3].data\n",
    "    pred_accuracy = 0\n",
    "\n",
    "    # Iterating over all the samples\n",
    "    for i in range(data.shape[0]):\n",
    "        if opt_scipy:\n",
    "            row_ind, col_ind = linear_sum_assignment(data[i], maximize = True)\n",
    "            max_weight = data[i][row_ind, col_ind].sum() / 2  #TODO why /2\n",
    "            #print(max_weight, row_ind, col_ind)\n",
    "        else:\n",
    "            max_weight = compute_greedy_matching_weight(i, data, masks, gt_matchings[i])\n",
    "\n",
    "        predicted_matching = predictions[\"match\"].data[i]\n",
    "\n",
    "        if partial:\n",
    "            preds_weight = compute_partial_matching_weight(i, data, masks, predicted_matching)\n",
    "            print(f\"opt: {max_weight}, greedy: {preds_weight}\")\n",
    "        else:\n",
    "            preds_weight = compute_greedy_matching_weight(i, data, masks, predicted_matching, match_rest = match_rest)\n",
    "            print(f\"opt: {max_weight}, partial: {preds_weight}\")\n",
    "\n",
    "        # assert preds_weight <= max_weight\n",
    "        pred_accuracy += preds_weight / max_weight\n",
    "\n",
    "    return pred_accuracy / data.shape[0]\n",
    "\n",
    "\n",
    "def compute_greedy_matching_weight(i, data, masks, matching, match_rest = False):\n",
    "    matching_weight = 0\n",
    "    A = data[i]\n",
    "    buyers_mask = masks[i]\n",
    "    n = int(np.sum(buyers_mask))\n",
    "    goods_mask = 1 - buyers_mask\n",
    "    m = int(np.sum(goods_mask))\n",
    "\n",
    "    # Only consider the matching values for consumers\n",
    "    matching = np.where(goods_mask == 1, matching, -1)\n",
    "    unmatched_goods = set(range(n, n + m))\n",
    "    unmatched_buyers = set(range(n))\n",
    "\n",
    "    for buyer in range(n):\n",
    "        if buyer in matching:\n",
    "            # If several goods point to the same buyer, keep the one with maximum weight\n",
    "            mask = matching == buyer\n",
    "            matching_weight += np.max(A[buyer, mask])\n",
    "            # Recovering the index of the maximum, inspired by http://seanlaw.github.io/2015/09/10/numpy-argmin-with-a-condition/\n",
    "            subset_idx = np.argmax(A[buyer, mask])\n",
    "            good = np.arange(A.shape[1])[mask][subset_idx]\n",
    "            unmatched_goods.remove(good)\n",
    "            unmatched_buyers.remove(buyer)\n",
    "\n",
    "    if match_rest and len(unmatched_goods) > 0 and len(unmatched_buyers) > 0:\n",
    "        # Compute optimal matching on the remaining unmatched nodes\n",
    "        mask = np.zeros(A.shape)\n",
    "        # TODO this is a horrible solution, there's definitely a prettier solution\n",
    "        mask[list(unmatched_buyers)] += 1\n",
    "        mask[:, list(unmatched_goods)] += 1\n",
    "        mask = np.where(mask == 2, True, False)\n",
    "        remaining_bipartite_graph = A * mask\n",
    "        row_ind, col_ind = linear_sum_assignment(remaining_bipartite_graph, maximize = True)\n",
    "        opt = A[row_ind, col_ind].sum() / 2  #TODO do I always need the division by 2\n",
    "        matching_weight += opt\n",
    "\n",
    "    return matching_weight\n",
    "\n",
    "\n",
    "def compute_partial_matching_weight(i, data, masks, matching):\n",
    "    # Matching is expected to be a (n+m)x(n+m) matrix where each row sums to 1 (weights assigned to other nodes)\n",
    "\n",
    "    matching_weight = 0\n",
    "    A = data[i]\n",
    "    buyers_mask = masks[i]\n",
    "    n = int(np.sum(buyers_mask))\n",
    "    goods_mask = 1 - buyers_mask\n",
    "    m = int(np.sum(goods_mask))\n",
    "\n",
    "    # We only care about the buyer -> good connections\n",
    "    A_submatrix = A[:n, n:n + m]\n",
    "    matching = matching[:n, n:n + m]\n",
    "\n",
    "    max_weight = np.max(np.sum(matching, axis = 0))\n",
    "    print(f\"max weight: {max_weight}\")\n",
    "    matching /= max_weight\n",
    "    return np.sum(matching * A_submatrix)"
   ]
  },
  {
   "cell_type": "code",
   "execution_count": 24,
   "metadata": {},
   "outputs": [
    {
     "name": "stdout",
     "output_type": "stream",
     "text": [
      "step = 0 | loss = 5.61204195022583 | val_acc = 0.009765625 | test_acc = 0.0\n",
      "step = 10 | loss = 2.0707576274871826 | val_acc = 0.009765625 | test_acc = 0.009765625\n",
      "step = 20 | loss = 0.9331364035606384 | val_acc = 0.236328125 | test_acc = 0.22226563096046448\n",
      "step = 30 | loss = 0.5320643782615662 | val_acc = 0.294921875 | test_acc = 0.32421875\n",
      "step = 40 | loss = 0.35010239481925964 | val_acc = 0.44921875 | test_acc = 0.37421876192092896\n",
      "step = 50 | loss = 0.31805557012557983 | val_acc = 0.298828125 | test_acc = 0.4566406309604645\n",
      "step = 60 | loss = 0.36847934126853943 | val_acc = 0.623046875 | test_acc = 0.34375\n",
      "step = 70 | loss = 0.22498081624507904 | val_acc = 0.66796875 | test_acc = 0.6429687738418579\n",
      "step = 80 | loss = 0.22404323518276215 | val_acc = 0.6484375 | test_acc = 0.606249988079071\n",
      "step = 90 | loss = 0.242916077375412 | val_acc = 0.642578125 | test_acc = 0.59765625\n",
      "opt: 26.136921539304925, partial: 24.342402954919613\n",
      "opt: 27.664400340876504, partial: 24.806261017452268\n",
      "opt: 25.778835418144652, partial: 23.77411152247599\n",
      "opt: 26.136921539304925, partial: 24.342402954919613\n",
      "opt: 26.97884553537703, partial: 24.53768921191668\n",
      "opt: 26.168991301747, partial: 25.25628024407805\n",
      "opt: 25.254941013046423, partial: 22.955505747868855\n",
      "opt: 26.136921539304925, partial: 24.342402954919613\n",
      "opt: 25.169107979443467, partial: 22.680524772044574\n",
      "opt: 25.010242249448346, partial: 22.304702166065752\n",
      "opt: 25.918668760838585, partial: 23.880724396489853\n",
      "opt: 26.213131833122272, partial: 24.34979889861373\n",
      "opt: 24.06782780888245, partial: 22.583361405165157\n",
      "opt: 25.918668760838585, partial: 23.880724396489853\n",
      "opt: 25.89302729120876, partial: 23.185878026689636\n",
      "opt: 25.390207783328094, partial: 23.121289539382012\n",
      "opt: 25.41427777207018, partial: 23.49820821880278\n",
      "opt: 25.63365231768958, partial: 24.543257087360207\n",
      "opt: 25.390207783328094, partial: 23.121289539382012\n",
      "opt: 24.99246149246058, partial: 23.28662276303153\n",
      "opt: 25.89302729120876, partial: 23.185878026689636\n",
      "opt: 26.136921539304925, partial: 24.342402954919613\n",
      "opt: 25.63365231768958, partial: 24.543257087360207\n",
      "opt: 26.715795645332165, partial: 26.033160676001913\n",
      "opt: 27.664400340876504, partial: 24.806261017452268\n",
      "opt: 24.06782780888245, partial: 22.583361405165157\n",
      "opt: 24.759612666914485, partial: 23.029042936306496\n",
      "opt: 27.664400340876504, partial: 24.806261017452268\n",
      "opt: 25.254941013046423, partial: 22.955505747868855\n",
      "opt: 25.778835418144652, partial: 23.77411152247599\n",
      "opt: 25.778835418144652, partial: 23.77411152247599\n",
      "opt: 26.554238147888555, partial: 23.722623828987693\n",
      "opt: 26.080036751415477, partial: 24.484927090082888\n",
      "opt: 27.664400340876504, partial: 24.806261017452268\n",
      "opt: 25.778835418144652, partial: 23.77411152247599\n",
      "opt: 26.554238147888555, partial: 23.722623828987693\n",
      "opt: 25.89302729120876, partial: 23.185878026689636\n",
      "opt: 24.80727150640645, partial: 23.91906326042252\n",
      "opt: 25.169107979443467, partial: 22.680524772044574\n",
      "opt: 25.841203764210945, partial: 24.055970172504008\n"
     ]
    },
    {
     "data": {
      "text/plain": [
       "0.9210022602295075"
      ]
     },
     "execution_count": 24,
     "metadata": {},
     "output_type": "execute_result"
    }
   ],
   "source": [
    "def heterogenous_testing(train_sample_spec, test_sample_spec, epochs = 100, model = None, bypass_training = False):\n",
    "    if model is None and bypass_training:\n",
    "        print(\"Need a model to bypass training\")\n",
    "        return\n",
    "\n",
    "    matching_values = []\n",
    "    train_sampler, spec = samplers(train_sample_spec, train_sample_spec['batch_size'])\n",
    "    test_sampler, _ = samplers(test_sample_spec, test_sample_spec['batch_size'])\n",
    "\n",
    "    if not bypass_training:\n",
    "        model = define_model(spec, train_sampler, model=\"mpnn\")\n",
    "        train(model, 100, train_sampler, test_sampler)\n",
    "    else:\n",
    "        print(\"Bypassing training\")\n",
    "\n",
    "    test_feedback = next(test_sampler)\n",
    "    #adj = test_feedback[0][0][1].data\n",
    "    #print(adj)\n",
    "    predictions, _ = model.predict(rng_key, test_feedback.features)\n",
    "    accuracy = matching_value(test_feedback, predictions, partial = False, match_rest = True, opt_scipy = True)\n",
    "\n",
    "    return model, accuracy, predictions, test_feedback.features\n",
    "\n",
    "\n",
    "\n",
    "train_sampler_spec = {\n",
    "    'num_samples': 100,\n",
    "    'batch_size': 32,\n",
    "    'schematics': [\n",
    "        {\n",
    "            'generator': 'ER',\n",
    "            'proportion': 1,\n",
    "            'length': 16,\n",
    "            'kwargs': {'p': 0.25, 'low': 0, 'high': 1, 'weighted': True}\n",
    "        },\n",
    "        {\n",
    "            'generator': 'ER',\n",
    "            'proportion': 0,\n",
    "            'length': 16,\n",
    "            'kwargs': {'p': 0.5, 'low': 1, 'high': 1.0001, 'weighted': True}\n",
    "        },\n",
    "    ]\n",
    "}\n",
    "\n",
    "test_sampler_spec = {\n",
    "    'num_samples': 40,\n",
    "    'batch_size': 40,\n",
    "    'schematics': [\n",
    "        {\n",
    "            'generator': 'ER',\n",
    "            'proportion': 1,\n",
    "            'length': 64,\n",
    "            'kwargs': {'p': 0.25, 'low': 0, 'high': 1, 'weighted': True}\n",
    "        }\n",
    "    ]\n",
    "}\n",
    "\n",
    "model, results, preds, x = heterogenous_testing(\n",
    "    train_sampler_spec,\n",
    "    test_sampler_spec,\n",
    "    bypass_training = False\n",
    ")\n",
    "\n",
    "results\n"
   ]
  },
  {
   "cell_type": "code",
   "execution_count": 59,
   "metadata": {
    "collapsed": false,
    "pycharm": {
     "is_executing": true
    }
   },
   "outputs": [
    {
     "name": "stdout",
     "output_type": "stream",
     "text": [
      "step = 0 | loss = 4.910767555236816 | val_acc = 0.005859375 | test_acc = 0.0\n",
      "step = 10 | loss = 2.28489351272583 | val_acc = 0.08984375 | test_acc = 0.0234375\n",
      "step = 20 | loss = 1.2414355278015137 | val_acc = 0.21875 | test_acc = 0.02773437462747097\n",
      "step = 30 | loss = 0.7597364783287048 | val_acc = 0.255859375 | test_acc = 0.05429687723517418\n",
      "step = 40 | loss = 0.5549033880233765 | val_acc = 0.265625 | test_acc = 0.05156249925494194\n",
      "step = 50 | loss = 0.40181857347488403 | val_acc = 0.345703125 | test_acc = 0.06953125447034836\n",
      "step = 60 | loss = 0.3417959213256836 | val_acc = 0.3359375 | test_acc = 0.07460937649011612\n",
      "step = 70 | loss = 0.3065289556980133 | val_acc = 0.349609375 | test_acc = 0.06718750298023224\n",
      "step = 80 | loss = 0.284324049949646 | val_acc = 0.3359375 | test_acc = 0.06210937723517418\n",
      "step = 90 | loss = 0.2781578004360199 | val_acc = 0.35546875 | test_acc = 0.05859375\n",
      "opt: 23.079858381635592, partial: 21.265089693048367\n",
      "opt: 23.079858381635592, partial: 21.265089693048367\n",
      "opt: 23.600560698481686, partial: 21.687251861420734\n",
      "opt: 24.63673217304494, partial: 21.70916759559742\n",
      "opt: 25.146011877281104, partial: 22.58045417923822\n",
      "opt: 24.138511032778034, partial: 22.928422739045622\n",
      "opt: 22.794268815567662, partial: 21.163725774398095\n",
      "opt: 24.618331244995826, partial: 22.65721493796653\n",
      "opt: 24.19261232657256, partial: 22.55166901461699\n",
      "opt: 25.968563358043568, partial: 24.02688620567126\n",
      "opt: 24.286138228363786, partial: 22.33026987199831\n",
      "opt: 24.768779824135514, partial: 22.097422287276075\n",
      "opt: 23.079858381635592, partial: 21.265089693048367\n",
      "opt: 25.968563358043568, partial: 24.02688620567126\n",
      "opt: 24.637278093868954, partial: 23.06893248820558\n",
      "opt: 25.18918424852101, partial: 23.930296942344995\n",
      "opt: 24.412872463579266, partial: 21.594094044439565\n",
      "opt: 23.33167436591462, partial: 22.108753057302735\n",
      "opt: 23.812117930991274, partial: 23.112921231512964\n",
      "opt: 23.85415503341212, partial: 22.69968539430703\n",
      "opt: 23.079858381635592, partial: 21.265089693048367\n",
      "opt: 24.618331244995826, partial: 22.65721493796653\n",
      "opt: 23.079858381635592, partial: 21.265089693048367\n",
      "opt: 25.307640749438406, partial: 23.026667842164315\n",
      "opt: 24.412872463579266, partial: 21.594094044439565\n",
      "opt: 24.42108333138229, partial: 22.506669781204252\n",
      "opt: 24.41627043227835, partial: 21.753301044062216\n",
      "opt: 23.54259595800665, partial: 22.464525372913158\n",
      "opt: 22.94846063809144, partial: 20.927745002383688\n",
      "opt: 24.412872463579266, partial: 21.594094044439565\n",
      "opt: 25.50438800921642, partial: 23.2390896545407\n",
      "opt: 23.54259595800665, partial: 22.464525372913158\n",
      "opt: 23.459401815089315, partial: 21.005222858542588\n",
      "opt: 25.50438800921642, partial: 23.2390896545407\n",
      "opt: 24.412872463579266, partial: 21.594094044439565\n",
      "opt: 25.50438800921642, partial: 23.2390896545407\n",
      "opt: 24.286138228363786, partial: 22.33026987199831\n",
      "opt: 23.459401815089315, partial: 21.005222858542588\n",
      "opt: 24.443411805473808, partial: 22.328942542764207\n",
      "opt: 23.079858381635592, partial: 21.265089693048367\n"
     ]
    },
    {
     "data": {
      "text/plain": [
       "[({'generator': 'GEOMETRIC', 'train': 16, 'test': 64},\n",
       "  {'generator': 'GEOMETRIC', 'train': 16, 'test': 64},\n",
       "  0.9183484967662874)]"
      ]
     },
     "execution_count": 59,
     "metadata": {},
     "output_type": "execute_result"
    }
   ],
   "source": [
    "def variation_testing(train_params, test_params, epochs = 100, model = None, bypass_training = False):\n",
    "    if model is None and bypass_training:\n",
    "        print(\"Need a model to bypass training\")\n",
    "        return\n",
    "\n",
    "    matching_values = []\n",
    "    for train_param, test_param in zip(train_params, test_params):\n",
    "        train_sampler, spec = samplers(100, train_param['train'], 32, **train_param)\n",
    "        test_sampler, _ = samplers(40, test_param['test'], 40, **test_param)\n",
    "\n",
    "        if not bypass_training:\n",
    "            model = define_model(spec, train_sampler, model=\"mpnn\")\n",
    "            train(model, 100, train_sampler, test_sampler)\n",
    "        else:\n",
    "            print(\"Bypassing training\")\n",
    "\n",
    "        test_feedback = next(test_sampler)\n",
    "        #adj = test_feedback[0][0][1].data\n",
    "        #print(adj)\n",
    "        predictions, _ = model.predict(rng_key, test_feedback.features)\n",
    "        accuracy = matching_value(test_feedback, predictions, partial = False, match_rest = True, opt_scipy = True)\n",
    "\n",
    "        matching_values.append((train_param, test_param, accuracy))\n",
    "    return model, matching_values, predictions, test_feedback.features\n",
    "weight_params = [{\"low\": 0, \"high\": 0.001},\n",
    "                 {\"low\": 1, \"high\": 1.001},\n",
    "                 {\"low\": 0, \"high\": 0.1},\n",
    "                 {\"low\": 0, \"high\": 1},\n",
    "                 {\"low\": 0, \"high\": 10},\n",
    "                 {\"low\": 0, \"high\": 100},\n",
    "                 {\"low\": 50, \"high\": 200},\n",
    "                 {\"low\": 500, \"high\": 2000},\n",
    "                 {\"low\": 5000, \"high\": 20000}\n",
    "                 ]\n",
    "\n",
    "params = [\n",
    "    {\"generator\": \"GEOMETRIC\", 'train': 16, 'test': 64}\n",
    "]\n",
    "\n",
    "# params = [\n",
    "#     {\"generator\": \"DATASET\", \"filepath\": 'data/gmission_edges.txt', 'train': 16, 'test': 16}\n",
    "# ]\n",
    "\n",
    "\n",
    "\n",
    "\n",
    "\n",
    "model, results, preds, x = variation_testing(params, params, bypass_training = False)\n",
    "\n",
    "results\n",
    "\n",
    "\n"
   ]
  },
  {
   "cell_type": "code",
   "execution_count": 35,
   "metadata": {},
   "outputs": [
    {
     "name": "stdout",
     "output_type": "stream",
     "text": [
      "25.0\n",
      "193.7541\n"
     ]
    }
   ],
   "source": [
    "test = x[0][1].data[0]\n",
    "np.sum(test != 0, axis=1)\n",
    "row_ind, col_ind = linear_sum_assignment(test != 0, maximize = True)\n",
    "print((test != 0)[row_ind, col_ind].sum() / 2)\n",
    "row_ind, col_ind = linear_sum_assignment(test, maximize = True)\n",
    "print(test[row_ind, col_ind].sum() / 2)"
   ]
  },
  {
   "cell_type": "code",
   "execution_count": 48,
   "metadata": {},
   "outputs": [
    {
     "data": {
      "text/plain": [
       "array([ 6,  2,  1,  8,  4,  3,  7,  3,  1,  1,  5,  2,  3,  8,  1,  0,  3,\n",
       "        5,  5,  6,  4,  2,  7,  2,  2,  2,  7,  5,  0,  5,  2,  1,  4,  0,\n",
       "        3,  2,  1,  9,  1,  1,  4,  1,  2,  4,  2,  2, 11,  2,  1,  0,  2,\n",
       "        3,  2,  3,  1,  2,  2,  7,  8,  7,  5, 10,  6,  5])"
      ]
     },
     "execution_count": 48,
     "metadata": {},
     "output_type": "execute_result"
    }
   ],
   "source": [
    "np.sum(test != 0, axis=1)"
   ]
  },
  {
   "cell_type": "code",
   "execution_count": 46,
   "metadata": {},
   "outputs": [
    {
     "data": {
      "text/plain": [
       "Array([44., 37., 52., 58., 58., 55., 58., 61., 52., 34., 35., 63., 48.,\n",
       "       50., 47., 15., 63., 58., 63., 58., 37., 37., 58., 37., 54., 51.,\n",
       "       58., 63., 28., 63., 51., 56.,  3.,  5., 12., 10.,  0., 29., 18.,\n",
       "        0., 29., 24., 10., 26.,  0., 10., 29., 10., 12.,  5.,  3., 16.,\n",
       "        8., 16., 24., 12.,  5., 26., 26., 23., 26., 26., 26., 18.],      dtype=float32)"
      ]
     },
     "execution_count": 46,
     "metadata": {},
     "output_type": "execute_result"
    }
   ],
   "source": [
    "pred = preds['match'].data[0]\n",
    "pred"
   ]
  },
  {
   "cell_type": "code",
   "execution_count": 47,
   "metadata": {},
   "outputs": [
    {
     "data": {
      "text/plain": [
       "(array([ 0,  1,  2,  3,  4,  5,  6,  7,  8,  9, 10, 11, 12, 13, 14, 15, 16,\n",
       "        17, 18, 19, 20, 21, 22, 23, 24, 25, 26, 27, 28, 29, 30, 31, 32, 33,\n",
       "        34, 35, 36, 37, 38, 39, 40, 41, 42, 43, 44, 45, 46, 47, 48, 49, 50,\n",
       "        51, 52, 53, 54, 55, 56, 57, 58, 59, 60, 61, 62, 63]),\n",
       " array([36,  2,  1, 50, 61, 55, 60, 32, 52, 34, 44, 40, 48, 62, 47, 42, 51,\n",
       "        35, 38, 43, 33, 59, 57, 37, 54, 53, 58, 46, 49, 63, 30, 56,  7, 45,\n",
       "         9, 17,  0, 23, 18, 39, 11, 28, 41, 19, 10, 15, 27, 14, 12, 20,  3,\n",
       "        16,  8, 25, 24,  5, 31, 22, 26, 21,  6,  4, 13, 29]))"
      ]
     },
     "execution_count": 47,
     "metadata": {},
     "output_type": "execute_result"
    }
   ],
   "source": [
    "row_ind, col_ind"
   ]
  },
  {
   "cell_type": "code",
   "execution_count": 51,
   "metadata": {},
   "outputs": [
    {
     "name": "stdout",
     "output_type": "stream",
     "text": [
      "average number of edges contradicting matching: 24.1\n"
     ]
    }
   ],
   "source": [
    "count_mismatches_two_way(preds)"
   ]
  },
  {
   "cell_type": "code",
   "execution_count": null,
   "metadata": {},
   "outputs": [],
   "source": []
  },
  {
   "attachments": {},
   "cell_type": "markdown",
   "metadata": {},
   "source": [
    "## GMISSION"
   ]
  },
  {
   "attachments": {},
   "cell_type": "markdown",
   "metadata": {},
   "source": [
    "16, 64 -> 0.6146\n",
    "16, 100 -> 0.4943\n",
    "16, 200 -> 0.3309"
   ]
  },
  {
   "cell_type": "code",
   "execution_count": 63,
   "metadata": {},
   "outputs": [
    {
     "data": {
      "image/png": "[encoded data removed]",
      "text/plain": [
       "<Figure size 640x480 with 1 Axes>"
      ]
     },
     "metadata": {},
     "output_type": "display_data"
    }
   ],
   "source": [
    "def plot_unif_accuracy(results):\n",
    "    xs, ys = list(zip(*results.keys()))\n",
    "    vals = list(results.values())\n",
    "    plt.scatter(xs, ys, c=vals, cmap='BuGn')\n",
    "    plt.xlabel('Offset')\n",
    "    plt.ylabel('Scale')\n",
    "    plt.show()\n",
    "\n",
    "unif_dist_results = {\n",
    "    (0, 0.001): 0.928,\n",
    "    (1, 0.001): 0.962,\n",
    "    (0, 0.1): 0.931,\n",
    "    (0, 10): 0.883,\n",
    "    (0, 100): 0.77,\n",
    "    (50, 150): 0.72,\n",
    "    (500, 1500): 0.69,\n",
    "    (5000, 15000): 0.7  \n",
    "}\n",
    "\n",
    "unif_cross_train = {\n",
    "    (0, 0.001): 0.948,\n",
    "    (1, 0.001): 0.967,\n",
    "    (0, 0.1): 0.916,\n",
    "    (0, 10): 0.86,\n",
    "    (0, 100): 0.75,\n",
    "    (50, 150): 0.72,\n",
    "    (500, 1500): 0.72,\n",
    "    (5000, 15000): 0.69  \n",
    "}\n",
    "\n",
    "plot_unif_accuracy(unif_dist_results)"
   ]
  },
  {
   "attachments": {},
   "cell_type": "markdown",
   "metadata": {
    "collapsed": false
   },
   "source": [
    "ER p=0.25, 100 8x8 train and 40 32x32 test => 0.94 in 100 iterations\n",
    "\n",
    "BA param=3, 100 8x8 train and 40 32x32 test => 0.97 in 100 iterations\n",
    "\n",
    "BA param=5, 100 8x8 train and 40 32x32 test => 0.95 in 100 iterations (0.951 in 200 so has pretty much converged after 100)\n",
    "\n",
    "BA param=7, 100 8x8 train and 40 32x32 test => 0.946 in 100 iterations\n",
    "\n",
    "#### Cross training\n",
    "BA param=7 to BA param=3\n",
    "\n",
    "BA param=7 to ER p=0.25 0.946 with BA to 0.939 with ER (same as if trained only on BA)\n",
    "\n",
    "ER p=0.25 to BA param=3 went from 0.939 with ER to 0.967 with BA (BA param 3 was 0.97 so basically nothing lost)\n",
    "\n",
    "#### Weight variations\n",
    "Uniform\n",
    "* 0,0.001 -> 0.928\n",
    "* 1,1.001 -> 0.962\n",
    "* 0,0.1 -> 0.931\n",
    "* 0,10 -> 0.883\n",
    "* 0,100 -> 0.77\n",
    "* 50, 200 -> 0.72\n",
    "* 500, 2000 -> 0.69\n",
    "* 5000, 20000 -> 0.7\n",
    "\n",
    "Normal:\n",
    "Basically same.\n",
    "\n",
    "Gumbel\n",
    "* 0,0.001 -> 0.323\n",
    "* 1,1.001 -> 0.849\n",
    "* 0,0.1 -> 0.498\n",
    "* 5,10 -> 0.82\n",
    "* 5,100 -> 0.8\n",
    "\n",
    "#### Weight cross training\n",
    "Train ER p=0.25 unif 0,1:\n",
    "* 0,0.001 -> 0.948\n",
    "* 1,1.001 -> 0.967\n",
    "* 0,0.1 -> 0.916\n",
    "* 0,10 -> 0.86\n",
    "* 0,100 -> 0.75\n",
    "* 50, 200 -> 0.72\n",
    "* 500, 2000 -> 0.72\n",
    "* 5000, 20000 -> 0.69\n",
    "\n",
    "=> Seems to weight generalize quite well. Actually even better because basically no statistical difference with if we trained separately.\n",
    "\n",
    "Train normal 5000, 20000:\n",
    "* 0, 0.001 -> 0.39 (maybe it's the large to small that was a problem here? Also those values make little sense for a normal RV)\n",
    "\n",
    "Other direction train normal 0, 0.001 (got to 0.78):\n",
    "* 5000, 20000 -> 0.76\n",
    "\n",
    "=> small to large seems better\n",
    "\n",
    "\n",
    "#### Larger graphs\n",
    "Same training\n",
    "ER p=0.25 8x8 train:\n",
    "* 100x100 test goes to 0.88\n",
    "* 200x200 goes to 0.63 (only 12 prediction mismatches though)\n"
   ]
  },
  {
   "attachments": {},
   "cell_type": "markdown",
   "metadata": {
    "collapsed": false
   },
   "source": [
    "## Preliminary results\n",
    "random permutation/matching: 0.18\n",
    "\n",
    "MPNN:\n",
    "learned predictions: 0.67\n",
    "\n",
    "GAT:\n",
    "learned predictions: 0.72\n",
    "\n",
    "Got better with double ended predictions\n",
    "\n",
    "Partial: 0.64 while greedy was doing about 0.92 on the same instance. Main reason seems to be that max weight is around 1.5 => can get at most 2/3 OPT\n"
   ]
  },
  {
   "attachments": {},
   "cell_type": "markdown",
   "metadata": {
    "collapsed": false
   },
   "source": [
    "### Counting the number of matching constraints violated"
   ]
  },
  {
   "cell_type": "code",
   "execution_count": 41,
   "metadata": {
    "collapsed": false
   },
   "outputs": [],
   "source": [
    "# For two-way\n",
    "def count_mismatches_two_way(predictions):\n",
    "    count = 0\n",
    "    data = predictions[\"match\"].data\n",
    "    nb_graphs = data.shape[0]\n",
    "    for datapoint in range(data.shape[0]):\n",
    "        for i in range(32):\n",
    "            owner = data[datapoint][i]\n",
    "            good = data[datapoint][int(owner)]\n",
    "            if good != i:\n",
    "                count += 1\n",
    "    print(f\"average number of edges contradicting matching: {count / nb_graphs}\")"
   ]
  },
  {
   "cell_type": "code",
   "execution_count": 42,
   "metadata": {
    "collapsed": false
   },
   "outputs": [],
   "source": [
    "# For self-loops\n",
    "def count_mismatches_self_loop(predictions):\n",
    "    count = 0\n",
    "    data = predictions[\"match\"].data\n",
    "    nb_graphs = data.shape[0]\n",
    "    for datapoint in range(data.shape[0]):\n",
    "        owners = set(np.array(data[datapoint][32:64]))\n",
    "        count += 32 - len(owners)\n",
    "    print(f\"average number of edges contradicting matching: {count / nb_graphs}\")\n"
   ]
  },
  {
   "cell_type": "code",
   "execution_count": 14,
   "metadata": {
    "collapsed": false
   },
   "outputs": [
    {
     "name": "stdout",
     "output_type": "stream",
     "text": [
      "[1 2 2 3]\n"
     ]
    }
   ],
   "source": [
    "a = np.array([1, 2])\n",
    "b = np.array([2, 3])\n",
    "print(np.concatenate((a, b)))"
   ]
  },
  {
   "cell_type": "code",
   "execution_count": null,
   "metadata": {
    "collapsed": false
   },
   "outputs": [],
   "source": []
  }
 ],
 "metadata": {
  "colab": {
   "gpuType": "T4",
   "provenance": []
  },
  "gpuClass": "standard",
  "kernelspec": {
   "display_name": "Python 3",
   "name": "python3"
  },
  "language_info": {
   "codemirror_mode": {
    "name": "ipython",
    "version": 3
   },
   "file_extension": ".py",
   "mimetype": "text/x-python",
   "name": "python",
   "nbconvert_exporter": "python",
   "pygments_lexer": "ipython3",
   "version": "3.11.3"
  }
 },
 "nbformat": 4,
 "nbformat_minor": 0
}
