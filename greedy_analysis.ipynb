{
 "cells": [
  {
   "cell_type": "code",
   "execution_count": 1,
   "metadata": {
    "collapsed": false
   },
   "outputs": [
    {
     "name": "stderr",
     "output_type": "stream",
     "text": [
      "2023-06-01 23:03:56.083856: W tensorflow/compiler/tf2tensorrt/utils/py_utils.cc:38] TF-TRT Warning: Could not find TensorRT\n",
      "/home/anders/miniconda3/envs/clrs/lib/python3.11/site-packages/tqdm/auto.py:21: TqdmWarning: IProgress not found. Please update jupyter and ipywidgets. See https://ipywidgets.readthedocs.io/en/stable/user_install.html\n",
      "  from .autonotebook import tqdm as notebook_tqdm\n",
      "No GPU/TPU found, falling back to CPU. (Set TF_CPP_MIN_LOG_LEVEL=0 and rerun for more info.)\n"
     ]
    }
   ],
   "source": [
    "\n",
    "import jax\n",
    "import clrs\n",
    "import numpy as np\n",
    "\n",
    "rng = np.random.RandomState(1234)\n",
    "rng_key = jax.random.PRNGKey(rng.randint(2 ** 32))\n",
    "from scipy.optimize import linear_sum_assignment\n",
    "import matplotlib.pyplot as plt"
   ]
  },
  {
   "cell_type": "code",
   "execution_count": 2,
   "metadata": {},
   "outputs": [],
   "source": [
    "def samplers(sampler_spec, **kwargs):\n",
    "    batch_size = sampler_spec.get('batch_size', 1)\n",
    "    num_samples = sampler_spec['num_samples']\n",
    "    if batch_size > num_samples:\n",
    "        batch_size = num_samples\n",
    "\n",
    "    def _iterate_sampler(sampler, batch_size):\n",
    "        while True:\n",
    "            yield sampler.next(batch_size)\n",
    "\n",
    "    sampler, spec = clrs.build_sampler(\n",
    "        name = 'simplified_min_sum',\n",
    "        sampler_spec = sampler_spec,\n",
    "        **kwargs)  # number of nodes\n",
    "\n",
    "    sampler = _iterate_sampler(sampler, batch_size = batch_size)\n",
    "    return sampler, spec"
   ]
  },
  {
   "cell_type": "code",
   "execution_count": 3,
   "metadata": {
    "colab": {
     "base_uri": "https://localhost:8080/"
    },
    "id": "OEo_Gj1j3Z6M",
    "outputId": "5ef53c51-9bc2-4a49-b4cf-592a32dfa5b7"
   },
   "outputs": [],
   "source": [
    "# If you don't want BipartiteMatching, just pass empty generator list and\n",
    "# length separately\n",
    "\n",
    "\n",
    "def gen_sym_matrix(n, m):\n",
    "    A = np.random.rand(n, m)\n",
    "    B = np.zeros((n + m, n + m))\n",
    "    B[:n, n:] = A\n",
    "    B[n:, :n] = A.T\n",
    "    return B\n",
    "\n",
    "def optimal_matching_value(A):\n",
    "    row, col = linear_sum_assignment(A, maximize=True)\n",
    "    return A[row, col].sum() / 2\n",
    "\n",
    "def greedy_matching_value(A):\n",
    "    matching_weight = 0\n",
    "    seen = set()\n",
    "    # Get the indices of the weights in highest to lowest order (hence the negative sign), inspired by https://stackoverflow.com/questions/30577375/have-numpy-argsort-return-an-array-of-2d-indices\n",
    "    indices = np.dstack(np.unravel_index(np.argsort(- A.ravel()), A.shape))\n",
    "\n",
    "    for index in indices[0]:\n",
    "        if index[0] not in seen and index[1] not in seen:\n",
    "            matching_weight += A[tuple(index)]\n",
    "            seen.add(index[0])\n",
    "            seen.add(index[1])\n",
    "\n",
    "    return matching_weight\n",
    "\n",
    "def greedy_test(sampler, trials):\n",
    "    ratios = []\n",
    "    for _ in range(trials):\n",
    "        A = next(sampler)[0][0][1].data[0]\n",
    "        ratios.append(greedy_matching_value(A) / optimal_matching_value(A))\n",
    "    return ratios\n"
   ]
  },
  {
   "cell_type": "code",
   "execution_count": 37,
   "metadata": {},
   "outputs": [],
   "source": [
    "ER_spec_1 = {\n",
    "    'num_samples': 1000,\n",
    "    'batch_size': 1,\n",
    "    'schematics': [\n",
    "        {\n",
    "            'generator': 'ER',\n",
    "            'proportion': 1,\n",
    "            'length': 64,\n",
    "            'kwargs': {'p': 0.5, 'low': 0, 'high': 1, 'weighted': True}\n",
    "        }\n",
    "    ]\n",
    "}\n",
    "\n",
    "ER_spec_2 = {\n",
    "    'num_samples': 1000,\n",
    "    'batch_size': 1,\n",
    "    'schematics': [\n",
    "        {\n",
    "            'generator': 'ER',\n",
    "            'proportion': 1,\n",
    "            'length': 16,\n",
    "            'length2': 48,\n",
    "            'kwargs': {'p': 0.5, 'low': 0, 'high': 1, 'weighted': True}\n",
    "        }\n",
    "    ]\n",
    "}\n",
    "\n",
    "BA_spec_1 = {\n",
    "    'num_samples': 1000,\n",
    "    'batch_size': 1,\n",
    "    'schematics': [\n",
    "        {\n",
    "            'generator': 'ER',\n",
    "            'proportion': 1,\n",
    "            'length': 64,\n",
    "            'kwargs': {'ba_param': 5, 'low': 0, 'high': 1, 'weighted': True}\n",
    "        }\n",
    "    ]\n",
    "}\n",
    "\n",
    "\n",
    "\n",
    "ER_sampler_1, _ = samplers(ER_spec_1)\n",
    "ER_sampler_2, _ = samplers(ER_spec_2)\n",
    "BA_sampler_1, _ = samplers(BA_spec_1)\n",
    "\n",
    "\n"
   ]
  },
  {
   "cell_type": "code",
   "execution_count": 8,
   "metadata": {},
   "outputs": [],
   "source": [
    "GEO_spec_1 = {\n",
    "    'num_samples': 1000,\n",
    "    'batch_size': 1,\n",
    "    'schematics': [\n",
    "        {\n",
    "            'generator': 'GEOMETRIC',\n",
    "            'proportion': 1,\n",
    "            'length': 64,\n",
    "            'kwargs': {'treshold': 0, 'scaling': 1 / np.sqrt(2), 'partition': 1, 'power': 1}\n",
    "        }\n",
    "    ]\n",
    "}\n",
    "GEO_sampler_1, _ = samplers(GEO_spec_1)"
   ]
  },
  {
   "cell_type": "code",
   "execution_count": 9,
   "metadata": {},
   "outputs": [],
   "source": [
    "GEO_spec_2 = {\n",
    "    'num_samples': 1000,\n",
    "    'batch_size': 1,\n",
    "    'schematics': [\n",
    "        {\n",
    "            'generator': 'GEOMETRIC',\n",
    "            'proportion': 1,\n",
    "            'length': 16,\n",
    "            'length2': 48,\n",
    "            'kwargs': {'treshold': 0, 'scaling': 1 / np.sqrt(2), 'partition': 1, 'power': 1}\n",
    "        }\n",
    "    ]\n",
    "}\n",
    "GEO_sampler_2, _ = samplers(GEO_spec_2)"
   ]
  },
  {
   "cell_type": "code",
   "execution_count": 33,
   "metadata": {},
   "outputs": [],
   "source": [
    "BA_spec_2 = {\n",
    "    'num_samples': 1000,\n",
    "    'batch_size': 1,\n",
    "    'schematics': [\n",
    "        {\n",
    "            'generator': 'GEOMETRIC',\n",
    "            'proportion': 1,\n",
    "            'length': 16,\n",
    "            'length2': 48,\n",
    "            'kwargs': {'treshold': 0, 'scaling': 1 / np.sqrt(2)}\n",
    "        }\n",
    "    ]\n",
    "}\n",
    "BA_sampler_2, _ = samplers(BA_spec_2)"
   ]
  },
  {
   "cell_type": "code",
   "execution_count": 13,
   "metadata": {},
   "outputs": [
    {
     "name": "stderr",
     "output_type": "stream",
     "text": [
      "WARNING:root:Requests made without an app_token will be subject to strict throttling limits.\n",
      "WARNING:root:Requests made without an app_token will be subject to strict throttling limits.\n"
     ]
    },
    {
     "name": "stdout",
     "output_type": "stream",
     "text": [
      "before: 902.0, actual (n,m): (56, 114)\n",
      "after: 127.0\n"
     ]
    },
    {
     "name": "stderr",
     "output_type": "stream",
     "text": [
      "WARNING:root:Requests made without an app_token will be subject to strict throttling limits.\n"
     ]
    },
    {
     "name": "stdout",
     "output_type": "stream",
     "text": [
      "before: 1092.0, actual (n,m): (56, 114)\n",
      "after: 147.0\n"
     ]
    },
    {
     "name": "stderr",
     "output_type": "stream",
     "text": [
      "WARNING:root:Requests made without an app_token will be subject to strict throttling limits.\n"
     ]
    },
    {
     "name": "stdout",
     "output_type": "stream",
     "text": [
      "before: 1096.0, actual (n,m): (56, 114)\n",
      "after: 172.0\n"
     ]
    },
    {
     "name": "stderr",
     "output_type": "stream",
     "text": [
      "WARNING:root:Requests made without an app_token will be subject to strict throttling limits.\n"
     ]
    },
    {
     "name": "stdout",
     "output_type": "stream",
     "text": [
      "before: 1302.0, actual (n,m): (56, 114)\n",
      "after: 273.0\n"
     ]
    },
    {
     "name": "stderr",
     "output_type": "stream",
     "text": [
      "WARNING:root:Requests made without an app_token will be subject to strict throttling limits.\n"
     ]
    },
    {
     "name": "stdout",
     "output_type": "stream",
     "text": [
      "before: 964.0, actual (n,m): (56, 114)\n",
      "after: 161.0\n"
     ]
    },
    {
     "name": "stderr",
     "output_type": "stream",
     "text": [
      "WARNING:root:Requests made without an app_token will be subject to strict throttling limits.\n"
     ]
    },
    {
     "name": "stdout",
     "output_type": "stream",
     "text": [
      "before: 1270.0, actual (n,m): (56, 114)\n",
      "after: 198.0\n"
     ]
    },
    {
     "name": "stderr",
     "output_type": "stream",
     "text": [
      "WARNING:root:Requests made without an app_token will be subject to strict throttling limits.\n"
     ]
    },
    {
     "name": "stdout",
     "output_type": "stream",
     "text": [
      "before: 1141.0, actual (n,m): (56, 114)\n",
      "after: 200.0\n"
     ]
    },
    {
     "name": "stderr",
     "output_type": "stream",
     "text": [
      "WARNING:root:Requests made without an app_token will be subject to strict throttling limits.\n"
     ]
    },
    {
     "name": "stdout",
     "output_type": "stream",
     "text": [
      "before: 1056.0, actual (n,m): (56, 114)\n",
      "after: 146.0\n"
     ]
    },
    {
     "name": "stderr",
     "output_type": "stream",
     "text": [
      "WARNING:root:Requests made without an app_token will be subject to strict throttling limits.\n"
     ]
    },
    {
     "name": "stdout",
     "output_type": "stream",
     "text": [
      "before: 1190.0, actual (n,m): (56, 114)\n",
      "after: 212.0\n"
     ]
    },
    {
     "name": "stderr",
     "output_type": "stream",
     "text": [
      "WARNING:root:Requests made without an app_token will be subject to strict throttling limits.\n"
     ]
    },
    {
     "name": "stdout",
     "output_type": "stream",
     "text": [
      "before: 995.0, actual (n,m): (56, 114)\n",
      "after: 168.0\n"
     ]
    },
    {
     "name": "stderr",
     "output_type": "stream",
     "text": [
      "WARNING:root:Requests made without an app_token will be subject to strict throttling limits.\n"
     ]
    },
    {
     "name": "stdout",
     "output_type": "stream",
     "text": [
      "before: 1178.0, actual (n,m): (56, 114)\n",
      "after: 212.0\n"
     ]
    },
    {
     "name": "stderr",
     "output_type": "stream",
     "text": [
      "WARNING:root:Requests made without an app_token will be subject to strict throttling limits.\n"
     ]
    },
    {
     "name": "stdout",
     "output_type": "stream",
     "text": [
      "before: 1185.0, actual (n,m): (56, 114)\n",
      "after: 175.0\n"
     ]
    },
    {
     "name": "stderr",
     "output_type": "stream",
     "text": [
      "WARNING:root:Requests made without an app_token will be subject to strict throttling limits.\n"
     ]
    },
    {
     "name": "stdout",
     "output_type": "stream",
     "text": [
      "before: 1270.0, actual (n,m): (56, 114)\n",
      "after: 153.0\n"
     ]
    },
    {
     "name": "stderr",
     "output_type": "stream",
     "text": [
      "WARNING:root:Requests made without an app_token will be subject to strict throttling limits.\n"
     ]
    },
    {
     "name": "stdout",
     "output_type": "stream",
     "text": [
      "before: 1218.0, actual (n,m): (56, 114)\n",
      "after: 216.0\n"
     ]
    },
    {
     "name": "stderr",
     "output_type": "stream",
     "text": [
      "WARNING:root:Requests made without an app_token will be subject to strict throttling limits.\n"
     ]
    },
    {
     "name": "stdout",
     "output_type": "stream",
     "text": [
      "before: 1267.0, actual (n,m): (56, 114)\n",
      "after: 173.0\n"
     ]
    },
    {
     "name": "stderr",
     "output_type": "stream",
     "text": [
      "WARNING:root:Requests made without an app_token will be subject to strict throttling limits.\n"
     ]
    },
    {
     "name": "stdout",
     "output_type": "stream",
     "text": [
      "before: 1085.0, actual (n,m): (56, 114)\n",
      "after: 175.0\n"
     ]
    },
    {
     "name": "stderr",
     "output_type": "stream",
     "text": [
      "WARNING:root:Requests made without an app_token will be subject to strict throttling limits.\n"
     ]
    },
    {
     "name": "stdout",
     "output_type": "stream",
     "text": [
      "before: 1188.0, actual (n,m): (56, 114)\n",
      "after: 190.0\n"
     ]
    },
    {
     "name": "stderr",
     "output_type": "stream",
     "text": [
      "WARNING:root:Requests made without an app_token will be subject to strict throttling limits.\n"
     ]
    },
    {
     "name": "stdout",
     "output_type": "stream",
     "text": [
      "before: 1246.0, actual (n,m): (56, 114)\n",
      "after: 188.0\n"
     ]
    },
    {
     "name": "stderr",
     "output_type": "stream",
     "text": [
      "WARNING:root:Requests made without an app_token will be subject to strict throttling limits.\n"
     ]
    },
    {
     "name": "stdout",
     "output_type": "stream",
     "text": [
      "before: 1049.0, actual (n,m): (56, 114)\n",
      "after: 164.0\n"
     ]
    },
    {
     "name": "stderr",
     "output_type": "stream",
     "text": [
      "WARNING:root:Requests made without an app_token will be subject to strict throttling limits.\n"
     ]
    },
    {
     "name": "stdout",
     "output_type": "stream",
     "text": [
      "before: 1155.0, actual (n,m): (56, 114)\n",
      "after: 153.0\n"
     ]
    },
    {
     "name": "stderr",
     "output_type": "stream",
     "text": [
      "WARNING:root:Requests made without an app_token will be subject to strict throttling limits.\n"
     ]
    },
    {
     "name": "stdout",
     "output_type": "stream",
     "text": [
      "before: 1053.0, actual (n,m): (56, 114)\n",
      "after: 151.0\n"
     ]
    },
    {
     "name": "stderr",
     "output_type": "stream",
     "text": [
      "WARNING:root:Requests made without an app_token will be subject to strict throttling limits.\n"
     ]
    },
    {
     "name": "stdout",
     "output_type": "stream",
     "text": [
      "before: 1269.0, actual (n,m): (56, 114)\n",
      "after: 173.0\n"
     ]
    },
    {
     "name": "stderr",
     "output_type": "stream",
     "text": [
      "WARNING:root:Requests made without an app_token will be subject to strict throttling limits.\n"
     ]
    },
    {
     "name": "stdout",
     "output_type": "stream",
     "text": [
      "before: 1188.0, actual (n,m): (56, 114)\n",
      "after: 185.0\n"
     ]
    },
    {
     "name": "stderr",
     "output_type": "stream",
     "text": [
      "WARNING:root:Requests made without an app_token will be subject to strict throttling limits.\n"
     ]
    },
    {
     "name": "stdout",
     "output_type": "stream",
     "text": [
      "before: 1125.0, actual (n,m): (56, 114)\n",
      "after: 197.0\n"
     ]
    },
    {
     "name": "stderr",
     "output_type": "stream",
     "text": [
      "WARNING:root:Requests made without an app_token will be subject to strict throttling limits.\n"
     ]
    },
    {
     "name": "stdout",
     "output_type": "stream",
     "text": [
      "before: 1070.0, actual (n,m): (56, 114)\n",
      "after: 165.0\n"
     ]
    },
    {
     "name": "stderr",
     "output_type": "stream",
     "text": [
      "WARNING:root:Requests made without an app_token will be subject to strict throttling limits.\n"
     ]
    },
    {
     "name": "stdout",
     "output_type": "stream",
     "text": [
      "before: 1010.0, actual (n,m): (56, 114)\n",
      "after: 176.0\n"
     ]
    },
    {
     "name": "stderr",
     "output_type": "stream",
     "text": [
      "WARNING:root:Requests made without an app_token will be subject to strict throttling limits.\n"
     ]
    },
    {
     "name": "stdout",
     "output_type": "stream",
     "text": [
      "before: 1087.0, actual (n,m): (56, 114)\n",
      "after: 168.0\n"
     ]
    },
    {
     "name": "stderr",
     "output_type": "stream",
     "text": [
      "WARNING:root:Requests made without an app_token will be subject to strict throttling limits.\n"
     ]
    },
    {
     "name": "stdout",
     "output_type": "stream",
     "text": [
      "before: 1081.0, actual (n,m): (56, 114)\n",
      "after: 149.0\n"
     ]
    },
    {
     "name": "stderr",
     "output_type": "stream",
     "text": [
      "WARNING:root:Requests made without an app_token will be subject to strict throttling limits.\n"
     ]
    },
    {
     "name": "stdout",
     "output_type": "stream",
     "text": [
      "before: 1256.0, actual (n,m): (56, 114)\n",
      "after: 174.0\n"
     ]
    },
    {
     "name": "stderr",
     "output_type": "stream",
     "text": [
      "WARNING:root:Requests made without an app_token will be subject to strict throttling limits.\n"
     ]
    },
    {
     "name": "stdout",
     "output_type": "stream",
     "text": [
      "before: 1191.0, actual (n,m): (56, 114)\n",
      "after: 195.0\n"
     ]
    },
    {
     "name": "stderr",
     "output_type": "stream",
     "text": [
      "WARNING:root:Requests made without an app_token will be subject to strict throttling limits.\n"
     ]
    },
    {
     "name": "stdout",
     "output_type": "stream",
     "text": [
      "before: 1264.0, actual (n,m): (56, 114)\n",
      "after: 213.0\n"
     ]
    },
    {
     "name": "stderr",
     "output_type": "stream",
     "text": [
      "WARNING:root:Requests made without an app_token will be subject to strict throttling limits.\n"
     ]
    },
    {
     "name": "stdout",
     "output_type": "stream",
     "text": [
      "before: 1248.0, actual (n,m): (56, 114)\n",
      "after: 199.0\n"
     ]
    },
    {
     "name": "stderr",
     "output_type": "stream",
     "text": [
      "WARNING:root:Requests made without an app_token will be subject to strict throttling limits.\n"
     ]
    },
    {
     "name": "stdout",
     "output_type": "stream",
     "text": [
      "before: 1111.0, actual (n,m): (56, 114)\n",
      "after: 158.0\n"
     ]
    },
    {
     "name": "stderr",
     "output_type": "stream",
     "text": [
      "WARNING:root:Requests made without an app_token will be subject to strict throttling limits.\n"
     ]
    },
    {
     "name": "stdout",
     "output_type": "stream",
     "text": [
      "before: 960.0, actual (n,m): (56, 114)\n",
      "after: 156.0\n"
     ]
    },
    {
     "name": "stderr",
     "output_type": "stream",
     "text": [
      "WARNING:root:Requests made without an app_token will be subject to strict throttling limits.\n"
     ]
    },
    {
     "name": "stdout",
     "output_type": "stream",
     "text": [
      "before: 1303.0, actual (n,m): (56, 114)\n",
      "after: 230.0\n"
     ]
    },
    {
     "name": "stderr",
     "output_type": "stream",
     "text": [
      "WARNING:root:Requests made without an app_token will be subject to strict throttling limits.\n"
     ]
    },
    {
     "name": "stdout",
     "output_type": "stream",
     "text": [
      "before: 1089.0, actual (n,m): (56, 114)\n",
      "after: 161.0\n"
     ]
    },
    {
     "name": "stderr",
     "output_type": "stream",
     "text": [
      "WARNING:root:Requests made without an app_token will be subject to strict throttling limits.\n"
     ]
    },
    {
     "name": "stdout",
     "output_type": "stream",
     "text": [
      "before: 1325.0, actual (n,m): (56, 114)\n",
      "after: 228.0\n"
     ]
    },
    {
     "name": "stderr",
     "output_type": "stream",
     "text": [
      "WARNING:root:Requests made without an app_token will be subject to strict throttling limits.\n"
     ]
    },
    {
     "name": "stdout",
     "output_type": "stream",
     "text": [
      "before: 1411.0, actual (n,m): (56, 114)\n",
      "after: 204.0\n"
     ]
    },
    {
     "name": "stderr",
     "output_type": "stream",
     "text": [
      "WARNING:root:Requests made without an app_token will be subject to strict throttling limits.\n"
     ]
    },
    {
     "name": "stdout",
     "output_type": "stream",
     "text": [
      "before: 1181.0, actual (n,m): (56, 114)\n",
      "after: 166.0\n"
     ]
    },
    {
     "name": "stderr",
     "output_type": "stream",
     "text": [
      "WARNING:root:Requests made without an app_token will be subject to strict throttling limits.\n"
     ]
    },
    {
     "name": "stdout",
     "output_type": "stream",
     "text": [
      "before: 1132.0, actual (n,m): (56, 114)\n",
      "after: 155.0\n"
     ]
    },
    {
     "name": "stderr",
     "output_type": "stream",
     "text": [
      "WARNING:root:Requests made without an app_token will be subject to strict throttling limits.\n"
     ]
    },
    {
     "name": "stdout",
     "output_type": "stream",
     "text": [
      "before: 1017.0, actual (n,m): (56, 114)\n",
      "after: 151.0\n"
     ]
    },
    {
     "name": "stderr",
     "output_type": "stream",
     "text": [
      "WARNING:root:Requests made without an app_token will be subject to strict throttling limits.\n"
     ]
    },
    {
     "name": "stdout",
     "output_type": "stream",
     "text": [
      "before: 1062.0, actual (n,m): (56, 114)\n",
      "after: 153.0\n"
     ]
    },
    {
     "name": "stderr",
     "output_type": "stream",
     "text": [
      "WARNING:root:Requests made without an app_token will be subject to strict throttling limits.\n"
     ]
    },
    {
     "name": "stdout",
     "output_type": "stream",
     "text": [
      "before: 1051.0, actual (n,m): (56, 114)\n",
      "after: 151.0\n"
     ]
    },
    {
     "name": "stderr",
     "output_type": "stream",
     "text": [
      "WARNING:root:Requests made without an app_token will be subject to strict throttling limits.\n"
     ]
    },
    {
     "name": "stdout",
     "output_type": "stream",
     "text": [
      "before: 957.0, actual (n,m): (56, 114)\n",
      "after: 190.0\n"
     ]
    },
    {
     "name": "stderr",
     "output_type": "stream",
     "text": [
      "WARNING:root:Requests made without an app_token will be subject to strict throttling limits.\n"
     ]
    },
    {
     "name": "stdout",
     "output_type": "stream",
     "text": [
      "before: 1073.0, actual (n,m): (56, 114)\n",
      "after: 173.0\n"
     ]
    },
    {
     "name": "stderr",
     "output_type": "stream",
     "text": [
      "WARNING:root:Requests made without an app_token will be subject to strict throttling limits.\n"
     ]
    },
    {
     "name": "stdout",
     "output_type": "stream",
     "text": [
      "before: 1071.0, actual (n,m): (56, 114)\n",
      "after: 150.0\n"
     ]
    },
    {
     "name": "stderr",
     "output_type": "stream",
     "text": [
      "WARNING:root:Requests made without an app_token will be subject to strict throttling limits.\n"
     ]
    },
    {
     "name": "stdout",
     "output_type": "stream",
     "text": [
      "before: 1153.0, actual (n,m): (56, 114)\n",
      "after: 173.0\n"
     ]
    },
    {
     "name": "stderr",
     "output_type": "stream",
     "text": [
      "WARNING:root:Requests made without an app_token will be subject to strict throttling limits.\n"
     ]
    },
    {
     "name": "stdout",
     "output_type": "stream",
     "text": [
      "before: 1141.0, actual (n,m): (56, 114)\n",
      "after: 186.0\n"
     ]
    },
    {
     "name": "stderr",
     "output_type": "stream",
     "text": [
      "WARNING:root:Requests made without an app_token will be subject to strict throttling limits.\n"
     ]
    },
    {
     "name": "stdout",
     "output_type": "stream",
     "text": [
      "before: 1076.0, actual (n,m): (56, 114)\n",
      "after: 166.0\n"
     ]
    },
    {
     "name": "stderr",
     "output_type": "stream",
     "text": [
      "WARNING:root:Requests made without an app_token will be subject to strict throttling limits.\n"
     ]
    },
    {
     "name": "stdout",
     "output_type": "stream",
     "text": [
      "before: 1315.0, actual (n,m): (56, 114)\n",
      "after: 191.0\n"
     ]
    },
    {
     "name": "stderr",
     "output_type": "stream",
     "text": [
      "WARNING:root:Requests made without an app_token will be subject to strict throttling limits.\n"
     ]
    },
    {
     "name": "stdout",
     "output_type": "stream",
     "text": [
      "before: 1071.0, actual (n,m): (56, 114)\n",
      "after: 176.0\n"
     ]
    },
    {
     "name": "stderr",
     "output_type": "stream",
     "text": [
      "WARNING:root:Requests made without an app_token will be subject to strict throttling limits.\n"
     ]
    },
    {
     "name": "stdout",
     "output_type": "stream",
     "text": [
      "before: 1058.0, actual (n,m): (56, 114)\n",
      "after: 141.0\n"
     ]
    },
    {
     "name": "stderr",
     "output_type": "stream",
     "text": [
      "WARNING:root:Requests made without an app_token will be subject to strict throttling limits.\n"
     ]
    },
    {
     "name": "stdout",
     "output_type": "stream",
     "text": [
      "before: 1025.0, actual (n,m): (56, 114)\n",
      "after: 159.0\n"
     ]
    },
    {
     "name": "stderr",
     "output_type": "stream",
     "text": [
      "WARNING:root:Requests made without an app_token will be subject to strict throttling limits.\n"
     ]
    },
    {
     "name": "stdout",
     "output_type": "stream",
     "text": [
      "before: 1102.0, actual (n,m): (56, 114)\n",
      "after: 162.0\n"
     ]
    },
    {
     "name": "stderr",
     "output_type": "stream",
     "text": [
      "WARNING:root:Requests made without an app_token will be subject to strict throttling limits.\n"
     ]
    },
    {
     "name": "stdout",
     "output_type": "stream",
     "text": [
      "before: 923.0, actual (n,m): (56, 114)\n",
      "after: 141.0\n"
     ]
    },
    {
     "name": "stderr",
     "output_type": "stream",
     "text": [
      "WARNING:root:Requests made without an app_token will be subject to strict throttling limits.\n"
     ]
    },
    {
     "name": "stdout",
     "output_type": "stream",
     "text": [
      "before: 1072.0, actual (n,m): (56, 114)\n",
      "after: 192.0\n"
     ]
    },
    {
     "name": "stderr",
     "output_type": "stream",
     "text": [
      "WARNING:root:Requests made without an app_token will be subject to strict throttling limits.\n"
     ]
    },
    {
     "name": "stdout",
     "output_type": "stream",
     "text": [
      "before: 1160.0, actual (n,m): (56, 114)\n",
      "after: 167.0\n"
     ]
    },
    {
     "name": "stderr",
     "output_type": "stream",
     "text": [
      "WARNING:root:Requests made without an app_token will be subject to strict throttling limits.\n"
     ]
    },
    {
     "name": "stdout",
     "output_type": "stream",
     "text": [
      "before: 1149.0, actual (n,m): (56, 114)\n",
      "after: 182.0\n"
     ]
    },
    {
     "name": "stderr",
     "output_type": "stream",
     "text": [
      "WARNING:root:Requests made without an app_token will be subject to strict throttling limits.\n"
     ]
    },
    {
     "name": "stdout",
     "output_type": "stream",
     "text": [
      "before: 1144.0, actual (n,m): (56, 114)\n",
      "after: 199.0\n"
     ]
    },
    {
     "name": "stderr",
     "output_type": "stream",
     "text": [
      "WARNING:root:Requests made without an app_token will be subject to strict throttling limits.\n"
     ]
    },
    {
     "name": "stdout",
     "output_type": "stream",
     "text": [
      "before: 1163.0, actual (n,m): (56, 114)\n",
      "after: 162.0\n"
     ]
    },
    {
     "name": "stderr",
     "output_type": "stream",
     "text": [
      "WARNING:root:Requests made without an app_token will be subject to strict throttling limits.\n"
     ]
    },
    {
     "name": "stdout",
     "output_type": "stream",
     "text": [
      "before: 1287.0, actual (n,m): (56, 114)\n",
      "after: 196.0\n"
     ]
    },
    {
     "name": "stderr",
     "output_type": "stream",
     "text": [
      "WARNING:root:Requests made without an app_token will be subject to strict throttling limits.\n"
     ]
    },
    {
     "name": "stdout",
     "output_type": "stream",
     "text": [
      "before: 1049.0, actual (n,m): (56, 114)\n",
      "after: 153.0\n"
     ]
    },
    {
     "name": "stderr",
     "output_type": "stream",
     "text": [
      "WARNING:root:Requests made without an app_token will be subject to strict throttling limits.\n"
     ]
    },
    {
     "name": "stdout",
     "output_type": "stream",
     "text": [
      "before: 1003.0, actual (n,m): (56, 114)\n",
      "after: 153.0\n"
     ]
    },
    {
     "name": "stderr",
     "output_type": "stream",
     "text": [
      "WARNING:root:Requests made without an app_token will be subject to strict throttling limits.\n"
     ]
    },
    {
     "name": "stdout",
     "output_type": "stream",
     "text": [
      "before: 1211.0, actual (n,m): (56, 114)\n",
      "after: 193.0\n"
     ]
    },
    {
     "name": "stderr",
     "output_type": "stream",
     "text": [
      "WARNING:root:Requests made without an app_token will be subject to strict throttling limits.\n"
     ]
    },
    {
     "name": "stdout",
     "output_type": "stream",
     "text": [
      "before: 1040.0, actual (n,m): (55, 114)\n",
      "after: 161.0\n"
     ]
    },
    {
     "name": "stderr",
     "output_type": "stream",
     "text": [
      "WARNING:root:Requests made without an app_token will be subject to strict throttling limits.\n"
     ]
    },
    {
     "name": "stdout",
     "output_type": "stream",
     "text": [
      "before: 1002.0, actual (n,m): (56, 114)\n",
      "after: 160.0\n"
     ]
    },
    {
     "name": "stderr",
     "output_type": "stream",
     "text": [
      "WARNING:root:Requests made without an app_token will be subject to strict throttling limits.\n"
     ]
    },
    {
     "name": "stdout",
     "output_type": "stream",
     "text": [
      "before: 1097.0, actual (n,m): (56, 114)\n",
      "after: 177.0\n"
     ]
    },
    {
     "name": "stderr",
     "output_type": "stream",
     "text": [
      "WARNING:root:Requests made without an app_token will be subject to strict throttling limits.\n"
     ]
    },
    {
     "name": "stdout",
     "output_type": "stream",
     "text": [
      "before: 1135.0, actual (n,m): (56, 114)\n",
      "after: 191.0\n"
     ]
    },
    {
     "name": "stderr",
     "output_type": "stream",
     "text": [
      "WARNING:root:Requests made without an app_token will be subject to strict throttling limits.\n"
     ]
    },
    {
     "name": "stdout",
     "output_type": "stream",
     "text": [
      "before: 1074.0, actual (n,m): (56, 114)\n",
      "after: 173.0\n"
     ]
    },
    {
     "name": "stderr",
     "output_type": "stream",
     "text": [
      "WARNING:root:Requests made without an app_token will be subject to strict throttling limits.\n"
     ]
    },
    {
     "name": "stdout",
     "output_type": "stream",
     "text": [
      "before: 1173.0, actual (n,m): (56, 114)\n",
      "after: 167.0\n"
     ]
    },
    {
     "name": "stderr",
     "output_type": "stream",
     "text": [
      "WARNING:root:Requests made without an app_token will be subject to strict throttling limits.\n"
     ]
    },
    {
     "name": "stdout",
     "output_type": "stream",
     "text": [
      "before: 918.0, actual (n,m): (56, 114)\n",
      "after: 129.0\n"
     ]
    },
    {
     "name": "stderr",
     "output_type": "stream",
     "text": [
      "WARNING:root:Requests made without an app_token will be subject to strict throttling limits.\n"
     ]
    },
    {
     "name": "stdout",
     "output_type": "stream",
     "text": [
      "before: 1114.0, actual (n,m): (56, 114)\n",
      "after: 175.0\n"
     ]
    },
    {
     "name": "stderr",
     "output_type": "stream",
     "text": [
      "WARNING:root:Requests made without an app_token will be subject to strict throttling limits.\n"
     ]
    },
    {
     "name": "stdout",
     "output_type": "stream",
     "text": [
      "before: 1152.0, actual (n,m): (56, 114)\n",
      "after: 173.0\n"
     ]
    },
    {
     "name": "stderr",
     "output_type": "stream",
     "text": [
      "WARNING:root:Requests made without an app_token will be subject to strict throttling limits.\n"
     ]
    },
    {
     "name": "stdout",
     "output_type": "stream",
     "text": [
      "before: 1268.0, actual (n,m): (56, 114)\n",
      "after: 163.0\n"
     ]
    },
    {
     "name": "stderr",
     "output_type": "stream",
     "text": [
      "WARNING:root:Requests made without an app_token will be subject to strict throttling limits.\n"
     ]
    },
    {
     "name": "stdout",
     "output_type": "stream",
     "text": [
      "before: 1251.0, actual (n,m): (56, 114)\n",
      "after: 229.0\n"
     ]
    },
    {
     "name": "stderr",
     "output_type": "stream",
     "text": [
      "WARNING:root:Requests made without an app_token will be subject to strict throttling limits.\n"
     ]
    },
    {
     "name": "stdout",
     "output_type": "stream",
     "text": [
      "before: 1198.0, actual (n,m): (56, 114)\n",
      "after: 200.0\n"
     ]
    },
    {
     "name": "stderr",
     "output_type": "stream",
     "text": [
      "WARNING:root:Requests made without an app_token will be subject to strict throttling limits.\n"
     ]
    },
    {
     "name": "stdout",
     "output_type": "stream",
     "text": [
      "before: 1270.0, actual (n,m): (56, 114)\n",
      "after: 218.0\n"
     ]
    },
    {
     "name": "stderr",
     "output_type": "stream",
     "text": [
      "WARNING:root:Requests made without an app_token will be subject to strict throttling limits.\n"
     ]
    },
    {
     "name": "stdout",
     "output_type": "stream",
     "text": [
      "before: 1076.0, actual (n,m): (56, 114)\n",
      "after: 172.0\n"
     ]
    },
    {
     "name": "stderr",
     "output_type": "stream",
     "text": [
      "WARNING:root:Requests made without an app_token will be subject to strict throttling limits.\n"
     ]
    },
    {
     "name": "stdout",
     "output_type": "stream",
     "text": [
      "before: 1033.0, actual (n,m): (56, 114)\n",
      "after: 166.0\n"
     ]
    },
    {
     "name": "stderr",
     "output_type": "stream",
     "text": [
      "WARNING:root:Requests made without an app_token will be subject to strict throttling limits.\n"
     ]
    },
    {
     "name": "stdout",
     "output_type": "stream",
     "text": [
      "before: 1062.0, actual (n,m): (56, 114)\n",
      "after: 152.0\n"
     ]
    },
    {
     "name": "stderr",
     "output_type": "stream",
     "text": [
      "WARNING:root:Requests made without an app_token will be subject to strict throttling limits.\n"
     ]
    },
    {
     "name": "stdout",
     "output_type": "stream",
     "text": [
      "before: 1346.0, actual (n,m): (56, 114)\n",
      "after: 219.0\n"
     ]
    },
    {
     "name": "stderr",
     "output_type": "stream",
     "text": [
      "WARNING:root:Requests made without an app_token will be subject to strict throttling limits.\n"
     ]
    },
    {
     "name": "stdout",
     "output_type": "stream",
     "text": [
      "before: 990.0, actual (n,m): (56, 114)\n",
      "after: 133.0\n"
     ]
    },
    {
     "name": "stderr",
     "output_type": "stream",
     "text": [
      "WARNING:root:Requests made without an app_token will be subject to strict throttling limits.\n"
     ]
    },
    {
     "name": "stdout",
     "output_type": "stream",
     "text": [
      "before: 1083.0, actual (n,m): (56, 114)\n",
      "after: 149.0\n"
     ]
    },
    {
     "name": "stderr",
     "output_type": "stream",
     "text": [
      "WARNING:root:Requests made without an app_token will be subject to strict throttling limits.\n"
     ]
    },
    {
     "name": "stdout",
     "output_type": "stream",
     "text": [
      "before: 1264.0, actual (n,m): (56, 114)\n",
      "after: 252.0\n"
     ]
    },
    {
     "name": "stderr",
     "output_type": "stream",
     "text": [
      "WARNING:root:Requests made without an app_token will be subject to strict throttling limits.\n"
     ]
    },
    {
     "name": "stdout",
     "output_type": "stream",
     "text": [
      "before: 1176.0, actual (n,m): (56, 114)\n",
      "after: 165.0\n"
     ]
    },
    {
     "name": "stderr",
     "output_type": "stream",
     "text": [
      "WARNING:root:Requests made without an app_token will be subject to strict throttling limits.\n"
     ]
    },
    {
     "name": "stdout",
     "output_type": "stream",
     "text": [
      "before: 1176.0, actual (n,m): (56, 114)\n",
      "after: 171.0\n"
     ]
    },
    {
     "name": "stderr",
     "output_type": "stream",
     "text": [
      "WARNING:root:Requests made without an app_token will be subject to strict throttling limits.\n"
     ]
    },
    {
     "name": "stdout",
     "output_type": "stream",
     "text": [
      "before: 1085.0, actual (n,m): (56, 114)\n",
      "after: 158.0\n"
     ]
    },
    {
     "name": "stderr",
     "output_type": "stream",
     "text": [
      "WARNING:root:Requests made without an app_token will be subject to strict throttling limits.\n"
     ]
    },
    {
     "name": "stdout",
     "output_type": "stream",
     "text": [
      "before: 1067.0, actual (n,m): (55, 114)\n",
      "after: 186.0\n"
     ]
    },
    {
     "name": "stderr",
     "output_type": "stream",
     "text": [
      "WARNING:root:Requests made without an app_token will be subject to strict throttling limits.\n"
     ]
    },
    {
     "name": "stdout",
     "output_type": "stream",
     "text": [
      "before: 1148.0, actual (n,m): (56, 114)\n",
      "after: 173.0\n"
     ]
    },
    {
     "name": "stderr",
     "output_type": "stream",
     "text": [
      "WARNING:root:Requests made without an app_token will be subject to strict throttling limits.\n"
     ]
    },
    {
     "name": "stdout",
     "output_type": "stream",
     "text": [
      "before: 1103.0, actual (n,m): (56, 114)\n",
      "after: 191.0\n"
     ]
    },
    {
     "name": "stderr",
     "output_type": "stream",
     "text": [
      "WARNING:root:Requests made without an app_token will be subject to strict throttling limits.\n"
     ]
    },
    {
     "name": "stdout",
     "output_type": "stream",
     "text": [
      "before: 1164.0, actual (n,m): (56, 114)\n",
      "after: 180.0\n"
     ]
    },
    {
     "name": "stderr",
     "output_type": "stream",
     "text": [
      "WARNING:root:Requests made without an app_token will be subject to strict throttling limits.\n"
     ]
    },
    {
     "name": "stdout",
     "output_type": "stream",
     "text": [
      "before: 1123.0, actual (n,m): (56, 114)\n",
      "after: 152.0\n"
     ]
    },
    {
     "name": "stderr",
     "output_type": "stream",
     "text": [
      "WARNING:root:Requests made without an app_token will be subject to strict throttling limits.\n"
     ]
    },
    {
     "name": "stdout",
     "output_type": "stream",
     "text": [
      "before: 1084.0, actual (n,m): (56, 114)\n",
      "after: 180.0\n"
     ]
    },
    {
     "name": "stderr",
     "output_type": "stream",
     "text": [
      "WARNING:root:Requests made without an app_token will be subject to strict throttling limits.\n"
     ]
    },
    {
     "name": "stdout",
     "output_type": "stream",
     "text": [
      "before: 1168.0, actual (n,m): (56, 114)\n",
      "after: 176.0\n"
     ]
    },
    {
     "name": "stderr",
     "output_type": "stream",
     "text": [
      "WARNING:root:Requests made without an app_token will be subject to strict throttling limits.\n"
     ]
    },
    {
     "name": "stdout",
     "output_type": "stream",
     "text": [
      "before: 1061.0, actual (n,m): (56, 114)\n",
      "after: 112.0\n"
     ]
    },
    {
     "name": "stderr",
     "output_type": "stream",
     "text": [
      "WARNING:root:Requests made without an app_token will be subject to strict throttling limits.\n"
     ]
    },
    {
     "name": "stdout",
     "output_type": "stream",
     "text": [
      "before: 1209.0, actual (n,m): (56, 114)\n",
      "after: 231.0\n"
     ]
    },
    {
     "name": "stderr",
     "output_type": "stream",
     "text": [
      "WARNING:root:Requests made without an app_token will be subject to strict throttling limits.\n"
     ]
    },
    {
     "name": "stdout",
     "output_type": "stream",
     "text": [
      "before: 1075.0, actual (n,m): (56, 114)\n",
      "after: 178.0\n"
     ]
    },
    {
     "name": "stderr",
     "output_type": "stream",
     "text": [
      "WARNING:root:Requests made without an app_token will be subject to strict throttling limits.\n"
     ]
    },
    {
     "name": "stdout",
     "output_type": "stream",
     "text": [
      "before: 1197.0, actual (n,m): (56, 114)\n",
      "after: 210.0\n"
     ]
    },
    {
     "name": "stderr",
     "output_type": "stream",
     "text": [
      "WARNING:root:Requests made without an app_token will be subject to strict throttling limits.\n"
     ]
    },
    {
     "name": "stdout",
     "output_type": "stream",
     "text": [
      "before: 1117.0, actual (n,m): (56, 114)\n",
      "after: 177.0\n",
      "before: 1176.0, actual (n,m): (56, 114)\n",
      "after: 170.0\n"
     ]
    }
   ],
   "source": [
    "RS_spec_1 = {\n",
    "    'num_samples': 100,\n",
    "    'batch_size': 1,\n",
    "    'schematics': [\n",
    "        {\n",
    "            'generator': 'RIDESHARE',\n",
    "            'proportion': 1,\n",
    "            'length': 64,\n",
    "            'kwargs': {}\n",
    "        }\n",
    "    ]\n",
    "}\n",
    "RS_sampler_1, _ = samplers(RS_spec_1)"
   ]
  },
  {
   "cell_type": "code",
   "execution_count": 14,
   "metadata": {},
   "outputs": [
    {
     "name": "stderr",
     "output_type": "stream",
     "text": [
      "WARNING:root:Requests made without an app_token will be subject to strict throttling limits.\n",
      "WARNING:root:Requests made without an app_token will be subject to strict throttling limits.\n"
     ]
    },
    {
     "name": "stdout",
     "output_type": "stream",
     "text": [
      "before: 51.0, actual (n,m): (13, 27)\n",
      "after: 6.0\n"
     ]
    },
    {
     "name": "stderr",
     "output_type": "stream",
     "text": [
      "WARNING:root:Requests made without an app_token will be subject to strict throttling limits.\n"
     ]
    },
    {
     "name": "stdout",
     "output_type": "stream",
     "text": [
      "before: 68.0, actual (n,m): (13, 27)\n",
      "after: 9.0\n"
     ]
    },
    {
     "name": "stderr",
     "output_type": "stream",
     "text": [
      "WARNING:root:Requests made without an app_token will be subject to strict throttling limits.\n"
     ]
    },
    {
     "name": "stdout",
     "output_type": "stream",
     "text": [
      "before: 68.0, actual (n,m): (13, 27)\n",
      "after: 17.0\n"
     ]
    },
    {
     "name": "stderr",
     "output_type": "stream",
     "text": [
      "WARNING:root:Requests made without an app_token will be subject to strict throttling limits.\n"
     ]
    },
    {
     "name": "stdout",
     "output_type": "stream",
     "text": [
      "before: 51.0, actual (n,m): (12, 27)\n",
      "after: 9.0\n"
     ]
    },
    {
     "name": "stderr",
     "output_type": "stream",
     "text": [
      "WARNING:root:Requests made without an app_token will be subject to strict throttling limits.\n"
     ]
    },
    {
     "name": "stdout",
     "output_type": "stream",
     "text": [
      "before: 64.0, actual (n,m): (13, 27)\n",
      "after: 9.0\n"
     ]
    },
    {
     "name": "stderr",
     "output_type": "stream",
     "text": [
      "WARNING:root:Requests made without an app_token will be subject to strict throttling limits.\n"
     ]
    },
    {
     "name": "stdout",
     "output_type": "stream",
     "text": [
      "before: 67.0, actual (n,m): (13, 27)\n",
      "after: 10.0\n"
     ]
    },
    {
     "name": "stderr",
     "output_type": "stream",
     "text": [
      "WARNING:root:Requests made without an app_token will be subject to strict throttling limits.\n"
     ]
    },
    {
     "name": "stdout",
     "output_type": "stream",
     "text": [
      "before: 69.0, actual (n,m): (13, 27)\n",
      "after: 10.0\n"
     ]
    },
    {
     "name": "stderr",
     "output_type": "stream",
     "text": [
      "WARNING:root:Requests made without an app_token will be subject to strict throttling limits.\n"
     ]
    },
    {
     "name": "stdout",
     "output_type": "stream",
     "text": [
      "before: 73.0, actual (n,m): (13, 27)\n",
      "after: 16.0\n"
     ]
    },
    {
     "name": "stderr",
     "output_type": "stream",
     "text": [
      "WARNING:root:Requests made without an app_token will be subject to strict throttling limits.\n"
     ]
    },
    {
     "name": "stdout",
     "output_type": "stream",
     "text": [
      "before: 66.0, actual (n,m): (13, 27)\n",
      "after: 8.0\n"
     ]
    },
    {
     "name": "stderr",
     "output_type": "stream",
     "text": [
      "WARNING:root:Requests made without an app_token will be subject to strict throttling limits.\n"
     ]
    },
    {
     "name": "stdout",
     "output_type": "stream",
     "text": [
      "before: 72.0, actual (n,m): (13, 27)\n",
      "after: 8.0\n"
     ]
    },
    {
     "name": "stderr",
     "output_type": "stream",
     "text": [
      "WARNING:root:Requests made without an app_token will be subject to strict throttling limits.\n"
     ]
    },
    {
     "name": "stdout",
     "output_type": "stream",
     "text": [
      "before: 66.0, actual (n,m): (13, 27)\n",
      "after: 8.0\n"
     ]
    },
    {
     "name": "stderr",
     "output_type": "stream",
     "text": [
      "WARNING:root:Requests made without an app_token will be subject to strict throttling limits.\n"
     ]
    },
    {
     "name": "stdout",
     "output_type": "stream",
     "text": [
      "before: 83.0, actual (n,m): (13, 27)\n",
      "after: 13.0\n"
     ]
    },
    {
     "name": "stderr",
     "output_type": "stream",
     "text": [
      "WARNING:root:Requests made without an app_token will be subject to strict throttling limits.\n"
     ]
    },
    {
     "name": "stdout",
     "output_type": "stream",
     "text": [
      "before: 63.0, actual (n,m): (13, 27)\n",
      "after: 11.0\n"
     ]
    },
    {
     "name": "stderr",
     "output_type": "stream",
     "text": [
      "WARNING:root:Requests made without an app_token will be subject to strict throttling limits.\n"
     ]
    },
    {
     "name": "stdout",
     "output_type": "stream",
     "text": [
      "before: 65.0, actual (n,m): (13, 27)\n",
      "after: 10.0\n"
     ]
    },
    {
     "name": "stderr",
     "output_type": "stream",
     "text": [
      "WARNING:root:Requests made without an app_token will be subject to strict throttling limits.\n"
     ]
    },
    {
     "name": "stdout",
     "output_type": "stream",
     "text": [
      "before: 77.0, actual (n,m): (13, 26)\n",
      "after: 16.0\n"
     ]
    },
    {
     "name": "stderr",
     "output_type": "stream",
     "text": [
      "WARNING:root:Requests made without an app_token will be subject to strict throttling limits.\n"
     ]
    },
    {
     "name": "stdout",
     "output_type": "stream",
     "text": [
      "before: 58.0, actual (n,m): (13, 27)\n",
      "after: 14.0\n"
     ]
    },
    {
     "name": "stderr",
     "output_type": "stream",
     "text": [
      "WARNING:root:Requests made without an app_token will be subject to strict throttling limits.\n"
     ]
    },
    {
     "name": "stdout",
     "output_type": "stream",
     "text": [
      "before: 94.0, actual (n,m): (13, 27)\n",
      "after: 13.0\n"
     ]
    },
    {
     "name": "stderr",
     "output_type": "stream",
     "text": [
      "WARNING:root:Requests made without an app_token will be subject to strict throttling limits.\n"
     ]
    },
    {
     "name": "stdout",
     "output_type": "stream",
     "text": [
      "before: 77.0, actual (n,m): (13, 27)\n",
      "after: 10.0\n"
     ]
    },
    {
     "name": "stderr",
     "output_type": "stream",
     "text": [
      "WARNING:root:Requests made without an app_token will be subject to strict throttling limits.\n"
     ]
    },
    {
     "name": "stdout",
     "output_type": "stream",
     "text": [
      "before: 58.0, actual (n,m): (12, 27)\n",
      "after: 12.0\n"
     ]
    },
    {
     "name": "stderr",
     "output_type": "stream",
     "text": [
      "WARNING:root:Requests made without an app_token will be subject to strict throttling limits.\n"
     ]
    },
    {
     "name": "stdout",
     "output_type": "stream",
     "text": [
      "before: 85.0, actual (n,m): (13, 27)\n",
      "after: 14.0\n"
     ]
    },
    {
     "name": "stderr",
     "output_type": "stream",
     "text": [
      "WARNING:root:Requests made without an app_token will be subject to strict throttling limits.\n"
     ]
    },
    {
     "name": "stdout",
     "output_type": "stream",
     "text": [
      "before: 63.0, actual (n,m): (13, 27)\n",
      "after: 9.0\n"
     ]
    },
    {
     "name": "stderr",
     "output_type": "stream",
     "text": [
      "WARNING:root:Requests made without an app_token will be subject to strict throttling limits.\n"
     ]
    },
    {
     "name": "stdout",
     "output_type": "stream",
     "text": [
      "before: 58.0, actual (n,m): (13, 27)\n",
      "after: 10.0\n"
     ]
    },
    {
     "name": "stderr",
     "output_type": "stream",
     "text": [
      "WARNING:root:Requests made without an app_token will be subject to strict throttling limits.\n"
     ]
    },
    {
     "name": "stdout",
     "output_type": "stream",
     "text": [
      "before: 75.0, actual (n,m): (13, 27)\n",
      "after: 6.0\n"
     ]
    },
    {
     "name": "stderr",
     "output_type": "stream",
     "text": [
      "WARNING:root:Requests made without an app_token will be subject to strict throttling limits.\n"
     ]
    },
    {
     "name": "stdout",
     "output_type": "stream",
     "text": [
      "before: 90.0, actual (n,m): (13, 27)\n",
      "after: 17.0\n"
     ]
    },
    {
     "name": "stderr",
     "output_type": "stream",
     "text": [
      "WARNING:root:Requests made without an app_token will be subject to strict throttling limits.\n"
     ]
    },
    {
     "name": "stdout",
     "output_type": "stream",
     "text": [
      "before: 87.0, actual (n,m): (13, 27)\n",
      "after: 13.0\n"
     ]
    },
    {
     "name": "stderr",
     "output_type": "stream",
     "text": [
      "WARNING:root:Requests made without an app_token will be subject to strict throttling limits.\n"
     ]
    },
    {
     "name": "stdout",
     "output_type": "stream",
     "text": [
      "before: 49.0, actual (n,m): (13, 27)\n",
      "after: 9.0\n"
     ]
    },
    {
     "name": "stderr",
     "output_type": "stream",
     "text": [
      "WARNING:root:Requests made without an app_token will be subject to strict throttling limits.\n"
     ]
    },
    {
     "name": "stdout",
     "output_type": "stream",
     "text": [
      "before: 61.0, actual (n,m): (13, 26)\n",
      "after: 10.0\n"
     ]
    },
    {
     "name": "stderr",
     "output_type": "stream",
     "text": [
      "WARNING:root:Requests made without an app_token will be subject to strict throttling limits.\n"
     ]
    },
    {
     "name": "stdout",
     "output_type": "stream",
     "text": [
      "before: 75.0, actual (n,m): (13, 27)\n",
      "after: 20.0\n"
     ]
    },
    {
     "name": "stderr",
     "output_type": "stream",
     "text": [
      "WARNING:root:Requests made without an app_token will be subject to strict throttling limits.\n"
     ]
    },
    {
     "name": "stdout",
     "output_type": "stream",
     "text": [
      "before: 62.0, actual (n,m): (13, 27)\n",
      "after: 14.0\n"
     ]
    },
    {
     "name": "stderr",
     "output_type": "stream",
     "text": [
      "WARNING:root:Requests made without an app_token will be subject to strict throttling limits.\n"
     ]
    },
    {
     "name": "stdout",
     "output_type": "stream",
     "text": [
      "before: 63.0, actual (n,m): (11, 27)\n",
      "after: 16.0\n"
     ]
    },
    {
     "name": "stderr",
     "output_type": "stream",
     "text": [
      "WARNING:root:Requests made without an app_token will be subject to strict throttling limits.\n"
     ]
    },
    {
     "name": "stdout",
     "output_type": "stream",
     "text": [
      "before: 60.0, actual (n,m): (13, 27)\n",
      "after: 12.0\n"
     ]
    },
    {
     "name": "stderr",
     "output_type": "stream",
     "text": [
      "WARNING:root:Requests made without an app_token will be subject to strict throttling limits.\n"
     ]
    },
    {
     "name": "stdout",
     "output_type": "stream",
     "text": [
      "before: 69.0, actual (n,m): (13, 27)\n",
      "after: 12.0\n"
     ]
    },
    {
     "name": "stderr",
     "output_type": "stream",
     "text": [
      "WARNING:root:Requests made without an app_token will be subject to strict throttling limits.\n"
     ]
    },
    {
     "name": "stdout",
     "output_type": "stream",
     "text": [
      "before: 72.0, actual (n,m): (13, 27)\n",
      "after: 9.0\n"
     ]
    },
    {
     "name": "stderr",
     "output_type": "stream",
     "text": [
      "WARNING:root:Requests made without an app_token will be subject to strict throttling limits.\n"
     ]
    },
    {
     "name": "stdout",
     "output_type": "stream",
     "text": [
      "before: 71.0, actual (n,m): (13, 27)\n",
      "after: 16.0\n"
     ]
    },
    {
     "name": "stderr",
     "output_type": "stream",
     "text": [
      "WARNING:root:Requests made without an app_token will be subject to strict throttling limits.\n"
     ]
    },
    {
     "name": "stdout",
     "output_type": "stream",
     "text": [
      "before: 63.0, actual (n,m): (13, 27)\n",
      "after: 10.0\n"
     ]
    },
    {
     "name": "stderr",
     "output_type": "stream",
     "text": [
      "WARNING:root:Requests made without an app_token will be subject to strict throttling limits.\n"
     ]
    },
    {
     "name": "stdout",
     "output_type": "stream",
     "text": [
      "before: 80.0, actual (n,m): (13, 27)\n",
      "after: 13.0\n"
     ]
    },
    {
     "name": "stderr",
     "output_type": "stream",
     "text": [
      "WARNING:root:Requests made without an app_token will be subject to strict throttling limits.\n"
     ]
    },
    {
     "name": "stdout",
     "output_type": "stream",
     "text": [
      "before: 64.0, actual (n,m): (13, 27)\n",
      "after: 11.0\n"
     ]
    },
    {
     "name": "stderr",
     "output_type": "stream",
     "text": [
      "WARNING:root:Requests made without an app_token will be subject to strict throttling limits.\n"
     ]
    },
    {
     "name": "stdout",
     "output_type": "stream",
     "text": [
      "before: 85.0, actual (n,m): (13, 27)\n",
      "after: 15.0\n"
     ]
    },
    {
     "name": "stderr",
     "output_type": "stream",
     "text": [
      "WARNING:root:Requests made without an app_token will be subject to strict throttling limits.\n"
     ]
    },
    {
     "name": "stdout",
     "output_type": "stream",
     "text": [
      "before: 63.0, actual (n,m): (13, 27)\n",
      "after: 13.0\n"
     ]
    },
    {
     "name": "stderr",
     "output_type": "stream",
     "text": [
      "WARNING:root:Requests made without an app_token will be subject to strict throttling limits.\n"
     ]
    },
    {
     "name": "stdout",
     "output_type": "stream",
     "text": [
      "before: 67.0, actual (n,m): (13, 27)\n",
      "after: 16.0\n"
     ]
    },
    {
     "name": "stderr",
     "output_type": "stream",
     "text": [
      "WARNING:root:Requests made without an app_token will be subject to strict throttling limits.\n"
     ]
    },
    {
     "name": "stdout",
     "output_type": "stream",
     "text": [
      "before: 93.0, actual (n,m): (13, 27)\n",
      "after: 17.0\n"
     ]
    },
    {
     "name": "stderr",
     "output_type": "stream",
     "text": [
      "WARNING:root:Requests made without an app_token will be subject to strict throttling limits.\n"
     ]
    },
    {
     "name": "stdout",
     "output_type": "stream",
     "text": [
      "before: 71.0, actual (n,m): (12, 27)\n",
      "after: 16.0\n"
     ]
    },
    {
     "name": "stderr",
     "output_type": "stream",
     "text": [
      "WARNING:root:Requests made without an app_token will be subject to strict throttling limits.\n"
     ]
    },
    {
     "name": "stdout",
     "output_type": "stream",
     "text": [
      "before: 58.0, actual (n,m): (13, 26)\n",
      "after: 9.0\n"
     ]
    },
    {
     "name": "stderr",
     "output_type": "stream",
     "text": [
      "WARNING:root:Requests made without an app_token will be subject to strict throttling limits.\n"
     ]
    },
    {
     "name": "stdout",
     "output_type": "stream",
     "text": [
      "before: 67.0, actual (n,m): (13, 27)\n",
      "after: 8.0\n"
     ]
    },
    {
     "name": "stderr",
     "output_type": "stream",
     "text": [
      "WARNING:root:Requests made without an app_token will be subject to strict throttling limits.\n"
     ]
    },
    {
     "name": "stdout",
     "output_type": "stream",
     "text": [
      "before: 52.0, actual (n,m): (13, 27)\n",
      "after: 7.0\n"
     ]
    },
    {
     "name": "stderr",
     "output_type": "stream",
     "text": [
      "WARNING:root:Requests made without an app_token will be subject to strict throttling limits.\n"
     ]
    },
    {
     "name": "stdout",
     "output_type": "stream",
     "text": [
      "before: 61.0, actual (n,m): (13, 27)\n",
      "after: 12.0\n"
     ]
    },
    {
     "name": "stderr",
     "output_type": "stream",
     "text": [
      "WARNING:root:Requests made without an app_token will be subject to strict throttling limits.\n"
     ]
    },
    {
     "name": "stdout",
     "output_type": "stream",
     "text": [
      "before: 78.0, actual (n,m): (13, 27)\n",
      "after: 11.0\n"
     ]
    },
    {
     "name": "stderr",
     "output_type": "stream",
     "text": [
      "WARNING:root:Requests made without an app_token will be subject to strict throttling limits.\n"
     ]
    },
    {
     "name": "stdout",
     "output_type": "stream",
     "text": [
      "before: 101.0, actual (n,m): (13, 27)\n",
      "after: 23.0\n"
     ]
    },
    {
     "name": "stderr",
     "output_type": "stream",
     "text": [
      "WARNING:root:Requests made without an app_token will be subject to strict throttling limits.\n"
     ]
    },
    {
     "name": "stdout",
     "output_type": "stream",
     "text": [
      "before: 72.0, actual (n,m): (13, 27)\n",
      "after: 11.0\n"
     ]
    },
    {
     "name": "stderr",
     "output_type": "stream",
     "text": [
      "WARNING:root:Requests made without an app_token will be subject to strict throttling limits.\n"
     ]
    },
    {
     "name": "stdout",
     "output_type": "stream",
     "text": [
      "before: 61.0, actual (n,m): (12, 27)\n",
      "after: 8.0\n"
     ]
    },
    {
     "name": "stderr",
     "output_type": "stream",
     "text": [
      "WARNING:root:Requests made without an app_token will be subject to strict throttling limits.\n"
     ]
    },
    {
     "name": "stdout",
     "output_type": "stream",
     "text": [
      "before: 87.0, actual (n,m): (13, 27)\n",
      "after: 16.0\n"
     ]
    },
    {
     "name": "stderr",
     "output_type": "stream",
     "text": [
      "WARNING:root:Requests made without an app_token will be subject to strict throttling limits.\n"
     ]
    },
    {
     "name": "stdout",
     "output_type": "stream",
     "text": [
      "before: 78.0, actual (n,m): (13, 27)\n",
      "after: 14.0\n"
     ]
    },
    {
     "name": "stderr",
     "output_type": "stream",
     "text": [
      "WARNING:root:Requests made without an app_token will be subject to strict throttling limits.\n"
     ]
    },
    {
     "name": "stdout",
     "output_type": "stream",
     "text": [
      "before: 47.0, actual (n,m): (13, 27)\n",
      "after: 6.0\n"
     ]
    },
    {
     "name": "stderr",
     "output_type": "stream",
     "text": [
      "WARNING:root:Requests made without an app_token will be subject to strict throttling limits.\n"
     ]
    },
    {
     "name": "stdout",
     "output_type": "stream",
     "text": [
      "before: 98.0, actual (n,m): (13, 27)\n",
      "after: 14.0\n"
     ]
    },
    {
     "name": "stderr",
     "output_type": "stream",
     "text": [
      "WARNING:root:Requests made without an app_token will be subject to strict throttling limits.\n"
     ]
    },
    {
     "name": "stdout",
     "output_type": "stream",
     "text": [
      "before: 73.0, actual (n,m): (13, 24)\n",
      "after: 16.0\n"
     ]
    },
    {
     "name": "stderr",
     "output_type": "stream",
     "text": [
      "WARNING:root:Requests made without an app_token will be subject to strict throttling limits.\n"
     ]
    },
    {
     "name": "stdout",
     "output_type": "stream",
     "text": [
      "before: 79.0, actual (n,m): (13, 27)\n",
      "after: 16.0\n"
     ]
    },
    {
     "name": "stderr",
     "output_type": "stream",
     "text": [
      "WARNING:root:Requests made without an app_token will be subject to strict throttling limits.\n"
     ]
    },
    {
     "name": "stdout",
     "output_type": "stream",
     "text": [
      "before: 55.0, actual (n,m): (13, 27)\n",
      "after: 9.0\n"
     ]
    },
    {
     "name": "stderr",
     "output_type": "stream",
     "text": [
      "WARNING:root:Requests made without an app_token will be subject to strict throttling limits.\n"
     ]
    },
    {
     "name": "stdout",
     "output_type": "stream",
     "text": [
      "before: 63.0, actual (n,m): (13, 27)\n",
      "after: 9.0\n"
     ]
    },
    {
     "name": "stderr",
     "output_type": "stream",
     "text": [
      "WARNING:root:Requests made without an app_token will be subject to strict throttling limits.\n"
     ]
    },
    {
     "name": "stdout",
     "output_type": "stream",
     "text": [
      "before: 88.0, actual (n,m): (13, 27)\n",
      "after: 19.0\n"
     ]
    },
    {
     "name": "stderr",
     "output_type": "stream",
     "text": [
      "WARNING:root:Requests made without an app_token will be subject to strict throttling limits.\n"
     ]
    },
    {
     "name": "stdout",
     "output_type": "stream",
     "text": [
      "before: 41.0, actual (n,m): (13, 27)\n",
      "after: 5.0\n"
     ]
    },
    {
     "name": "stderr",
     "output_type": "stream",
     "text": [
      "WARNING:root:Requests made without an app_token will be subject to strict throttling limits.\n"
     ]
    },
    {
     "name": "stdout",
     "output_type": "stream",
     "text": [
      "before: 80.0, actual (n,m): (13, 27)\n",
      "after: 23.0\n"
     ]
    },
    {
     "name": "stderr",
     "output_type": "stream",
     "text": [
      "WARNING:root:Requests made without an app_token will be subject to strict throttling limits.\n"
     ]
    },
    {
     "name": "stdout",
     "output_type": "stream",
     "text": [
      "before: 40.0, actual (n,m): (13, 27)\n",
      "after: 12.0\n"
     ]
    },
    {
     "name": "stderr",
     "output_type": "stream",
     "text": [
      "WARNING:root:Requests made without an app_token will be subject to strict throttling limits.\n"
     ]
    },
    {
     "name": "stdout",
     "output_type": "stream",
     "text": [
      "before: 74.0, actual (n,m): (13, 27)\n",
      "after: 20.0\n"
     ]
    },
    {
     "name": "stderr",
     "output_type": "stream",
     "text": [
      "WARNING:root:Requests made without an app_token will be subject to strict throttling limits.\n"
     ]
    },
    {
     "name": "stdout",
     "output_type": "stream",
     "text": [
      "before: 83.0, actual (n,m): (13, 27)\n",
      "after: 11.0\n"
     ]
    },
    {
     "name": "stderr",
     "output_type": "stream",
     "text": [
      "WARNING:root:Requests made without an app_token will be subject to strict throttling limits.\n"
     ]
    },
    {
     "name": "stdout",
     "output_type": "stream",
     "text": [
      "before: 54.0, actual (n,m): (13, 27)\n",
      "after: 7.0\n"
     ]
    },
    {
     "name": "stderr",
     "output_type": "stream",
     "text": [
      "WARNING:root:Requests made without an app_token will be subject to strict throttling limits.\n"
     ]
    },
    {
     "name": "stdout",
     "output_type": "stream",
     "text": [
      "before: 52.0, actual (n,m): (13, 27)\n",
      "after: 5.0\n"
     ]
    },
    {
     "name": "stderr",
     "output_type": "stream",
     "text": [
      "WARNING:root:Requests made without an app_token will be subject to strict throttling limits.\n"
     ]
    },
    {
     "name": "stdout",
     "output_type": "stream",
     "text": [
      "before: 63.0, actual (n,m): (13, 26)\n",
      "after: 12.0\n"
     ]
    },
    {
     "name": "stderr",
     "output_type": "stream",
     "text": [
      "WARNING:root:Requests made without an app_token will be subject to strict throttling limits.\n"
     ]
    },
    {
     "name": "stdout",
     "output_type": "stream",
     "text": [
      "before: 60.0, actual (n,m): (13, 27)\n",
      "after: 10.0\n"
     ]
    },
    {
     "name": "stderr",
     "output_type": "stream",
     "text": [
      "WARNING:root:Requests made without an app_token will be subject to strict throttling limits.\n"
     ]
    },
    {
     "name": "stdout",
     "output_type": "stream",
     "text": [
      "before: 59.0, actual (n,m): (12, 27)\n",
      "after: 6.0\n"
     ]
    },
    {
     "name": "stderr",
     "output_type": "stream",
     "text": [
      "WARNING:root:Requests made without an app_token will be subject to strict throttling limits.\n"
     ]
    },
    {
     "name": "stdout",
     "output_type": "stream",
     "text": [
      "before: 65.0, actual (n,m): (13, 27)\n",
      "after: 9.0\n"
     ]
    },
    {
     "name": "stderr",
     "output_type": "stream",
     "text": [
      "WARNING:root:Requests made without an app_token will be subject to strict throttling limits.\n"
     ]
    },
    {
     "name": "stdout",
     "output_type": "stream",
     "text": [
      "before: 44.0, actual (n,m): (13, 26)\n",
      "after: 9.0\n"
     ]
    },
    {
     "name": "stderr",
     "output_type": "stream",
     "text": [
      "WARNING:root:Requests made without an app_token will be subject to strict throttling limits.\n"
     ]
    },
    {
     "name": "stdout",
     "output_type": "stream",
     "text": [
      "before: 73.0, actual (n,m): (13, 27)\n",
      "after: 14.0\n"
     ]
    },
    {
     "name": "stderr",
     "output_type": "stream",
     "text": [
      "WARNING:root:Requests made without an app_token will be subject to strict throttling limits.\n"
     ]
    },
    {
     "name": "stdout",
     "output_type": "stream",
     "text": [
      "before: 73.0, actual (n,m): (13, 27)\n",
      "after: 17.0\n"
     ]
    },
    {
     "name": "stderr",
     "output_type": "stream",
     "text": [
      "WARNING:root:Requests made without an app_token will be subject to strict throttling limits.\n"
     ]
    },
    {
     "name": "stdout",
     "output_type": "stream",
     "text": [
      "before: 61.0, actual (n,m): (13, 27)\n",
      "after: 9.0\n"
     ]
    },
    {
     "name": "stderr",
     "output_type": "stream",
     "text": [
      "WARNING:root:Requests made without an app_token will be subject to strict throttling limits.\n"
     ]
    },
    {
     "name": "stdout",
     "output_type": "stream",
     "text": [
      "before: 52.0, actual (n,m): (13, 27)\n",
      "after: 7.0\n"
     ]
    },
    {
     "name": "stderr",
     "output_type": "stream",
     "text": [
      "WARNING:root:Requests made without an app_token will be subject to strict throttling limits.\n"
     ]
    },
    {
     "name": "stdout",
     "output_type": "stream",
     "text": [
      "before: 39.0, actual (n,m): (13, 26)\n",
      "after: 13.0\n"
     ]
    },
    {
     "name": "stderr",
     "output_type": "stream",
     "text": [
      "WARNING:root:Requests made without an app_token will be subject to strict throttling limits.\n"
     ]
    },
    {
     "name": "stdout",
     "output_type": "stream",
     "text": [
      "before: 61.0, actual (n,m): (13, 27)\n",
      "after: 14.0\n"
     ]
    },
    {
     "name": "stderr",
     "output_type": "stream",
     "text": [
      "WARNING:root:Requests made without an app_token will be subject to strict throttling limits.\n"
     ]
    },
    {
     "name": "stdout",
     "output_type": "stream",
     "text": [
      "before: 57.0, actual (n,m): (13, 27)\n",
      "after: 11.0\n"
     ]
    },
    {
     "name": "stderr",
     "output_type": "stream",
     "text": [
      "WARNING:root:Requests made without an app_token will be subject to strict throttling limits.\n"
     ]
    },
    {
     "name": "stdout",
     "output_type": "stream",
     "text": [
      "before: 84.0, actual (n,m): (13, 26)\n",
      "after: 8.0\n"
     ]
    },
    {
     "name": "stderr",
     "output_type": "stream",
     "text": [
      "WARNING:root:Requests made without an app_token will be subject to strict throttling limits.\n"
     ]
    },
    {
     "name": "stdout",
     "output_type": "stream",
     "text": [
      "before: 59.0, actual (n,m): (13, 27)\n",
      "after: 11.0\n"
     ]
    },
    {
     "name": "stderr",
     "output_type": "stream",
     "text": [
      "WARNING:root:Requests made without an app_token will be subject to strict throttling limits.\n"
     ]
    },
    {
     "name": "stdout",
     "output_type": "stream",
     "text": [
      "before: 71.0, actual (n,m): (13, 27)\n",
      "after: 8.0\n"
     ]
    },
    {
     "name": "stderr",
     "output_type": "stream",
     "text": [
      "WARNING:root:Requests made without an app_token will be subject to strict throttling limits.\n"
     ]
    },
    {
     "name": "stdout",
     "output_type": "stream",
     "text": [
      "before: 56.0, actual (n,m): (13, 27)\n",
      "after: 11.0\n"
     ]
    },
    {
     "name": "stderr",
     "output_type": "stream",
     "text": [
      "WARNING:root:Requests made without an app_token will be subject to strict throttling limits.\n"
     ]
    },
    {
     "name": "stdout",
     "output_type": "stream",
     "text": [
      "before: 78.0, actual (n,m): (13, 27)\n",
      "after: 15.0\n"
     ]
    },
    {
     "name": "stderr",
     "output_type": "stream",
     "text": [
      "WARNING:root:Requests made without an app_token will be subject to strict throttling limits.\n"
     ]
    },
    {
     "name": "stdout",
     "output_type": "stream",
     "text": [
      "before: 65.0, actual (n,m): (13, 25)\n",
      "after: 6.0\n"
     ]
    },
    {
     "name": "stderr",
     "output_type": "stream",
     "text": [
      "WARNING:root:Requests made without an app_token will be subject to strict throttling limits.\n"
     ]
    },
    {
     "name": "stdout",
     "output_type": "stream",
     "text": [
      "before: 71.0, actual (n,m): (13, 27)\n",
      "after: 13.0\n"
     ]
    },
    {
     "name": "stderr",
     "output_type": "stream",
     "text": [
      "WARNING:root:Requests made without an app_token will be subject to strict throttling limits.\n"
     ]
    },
    {
     "name": "stdout",
     "output_type": "stream",
     "text": [
      "before: 72.0, actual (n,m): (12, 27)\n",
      "after: 10.0\n"
     ]
    },
    {
     "name": "stderr",
     "output_type": "stream",
     "text": [
      "WARNING:root:Requests made without an app_token will be subject to strict throttling limits.\n"
     ]
    },
    {
     "name": "stdout",
     "output_type": "stream",
     "text": [
      "before: 46.0, actual (n,m): (13, 26)\n",
      "after: 6.0\n"
     ]
    },
    {
     "name": "stderr",
     "output_type": "stream",
     "text": [
      "WARNING:root:Requests made without an app_token will be subject to strict throttling limits.\n"
     ]
    },
    {
     "name": "stdout",
     "output_type": "stream",
     "text": [
      "before: 55.0, actual (n,m): (12, 27)\n",
      "after: 9.0\n"
     ]
    },
    {
     "name": "stderr",
     "output_type": "stream",
     "text": [
      "WARNING:root:Requests made without an app_token will be subject to strict throttling limits.\n"
     ]
    },
    {
     "name": "stdout",
     "output_type": "stream",
     "text": [
      "before: 65.0, actual (n,m): (12, 27)\n",
      "after: 15.0\n"
     ]
    },
    {
     "name": "stderr",
     "output_type": "stream",
     "text": [
      "WARNING:root:Requests made without an app_token will be subject to strict throttling limits.\n"
     ]
    },
    {
     "name": "stdout",
     "output_type": "stream",
     "text": [
      "before: 85.0, actual (n,m): (12, 27)\n",
      "after: 13.0\n"
     ]
    },
    {
     "name": "stderr",
     "output_type": "stream",
     "text": [
      "WARNING:root:Requests made without an app_token will be subject to strict throttling limits.\n"
     ]
    },
    {
     "name": "stdout",
     "output_type": "stream",
     "text": [
      "before: 85.0, actual (n,m): (13, 27)\n",
      "after: 10.0\n"
     ]
    },
    {
     "name": "stderr",
     "output_type": "stream",
     "text": [
      "WARNING:root:Requests made without an app_token will be subject to strict throttling limits.\n"
     ]
    },
    {
     "name": "stdout",
     "output_type": "stream",
     "text": [
      "before: 63.0, actual (n,m): (13, 27)\n",
      "after: 11.0\n"
     ]
    },
    {
     "name": "stderr",
     "output_type": "stream",
     "text": [
      "WARNING:root:Requests made without an app_token will be subject to strict throttling limits.\n"
     ]
    },
    {
     "name": "stdout",
     "output_type": "stream",
     "text": [
      "before: 47.0, actual (n,m): (13, 27)\n",
      "after: 10.0\n"
     ]
    },
    {
     "name": "stderr",
     "output_type": "stream",
     "text": [
      "WARNING:root:Requests made without an app_token will be subject to strict throttling limits.\n"
     ]
    },
    {
     "name": "stdout",
     "output_type": "stream",
     "text": [
      "before: 80.0, actual (n,m): (13, 27)\n",
      "after: 15.0\n"
     ]
    },
    {
     "name": "stderr",
     "output_type": "stream",
     "text": [
      "WARNING:root:Requests made without an app_token will be subject to strict throttling limits.\n"
     ]
    },
    {
     "name": "stdout",
     "output_type": "stream",
     "text": [
      "before: 63.0, actual (n,m): (13, 26)\n",
      "after: 10.0\n"
     ]
    },
    {
     "name": "stderr",
     "output_type": "stream",
     "text": [
      "WARNING:root:Requests made without an app_token will be subject to strict throttling limits.\n"
     ]
    },
    {
     "name": "stdout",
     "output_type": "stream",
     "text": [
      "before: 78.0, actual (n,m): (13, 27)\n",
      "after: 14.0\n"
     ]
    },
    {
     "name": "stderr",
     "output_type": "stream",
     "text": [
      "WARNING:root:Requests made without an app_token will be subject to strict throttling limits.\n"
     ]
    },
    {
     "name": "stdout",
     "output_type": "stream",
     "text": [
      "before: 81.0, actual (n,m): (13, 27)\n",
      "after: 12.0\n"
     ]
    },
    {
     "name": "stderr",
     "output_type": "stream",
     "text": [
      "WARNING:root:Requests made without an app_token will be subject to strict throttling limits.\n"
     ]
    },
    {
     "name": "stdout",
     "output_type": "stream",
     "text": [
      "before: 69.0, actual (n,m): (13, 27)\n",
      "after: 11.0\n"
     ]
    },
    {
     "name": "stderr",
     "output_type": "stream",
     "text": [
      "WARNING:root:Requests made without an app_token will be subject to strict throttling limits.\n"
     ]
    },
    {
     "name": "stdout",
     "output_type": "stream",
     "text": [
      "before: 70.0, actual (n,m): (13, 27)\n",
      "after: 9.0\n",
      "before: 56.0, actual (n,m): (13, 27)\n",
      "after: 11.0\n"
     ]
    }
   ],
   "source": [
    "RS_spec_2 = {\n",
    "    'num_samples': 100,\n",
    "    'batch_size': 1,\n",
    "    'schematics': [\n",
    "        {\n",
    "            'generator': 'RIDESHARE',\n",
    "            'proportion': 1,\n",
    "            'length': 16,\n",
    "            'length2': 48,\n",
    "            'kwargs': {}\n",
    "        }\n",
    "    ]\n",
    "}\n",
    "RS_sampler_2, _ = samplers(RS_spec_2)"
   ]
  },
  {
   "cell_type": "code",
   "execution_count": 16,
   "metadata": {},
   "outputs": [
    {
     "data": {
      "image/png": "[encoded data removed]",
      "text/plain": [
       "<Figure size 640x480 with 1 Axes>"
      ]
     },
     "metadata": {},
     "output_type": "display_data"
    },
    {
     "name": "stdout",
     "output_type": "stream",
     "text": [
      "Mean: 0.9397849242648391, Standard deviation: 0.042866155188594345\n"
     ]
    }
   ],
   "source": [
    "ratios = greedy_test(RS_sampler_1, trials=1000)\n",
    "mean = np.mean(ratios)\n",
    "std = np.std(ratios)\n",
    "plt.hist(ratios, bins=10)\n",
    "plt.vlines(x=mean, ymin=0, ymax=150, linestyle='dashed', color='red')\n",
    "plt.xlabel('ALG / OPT')\n",
    "plt.title('ER(p=0.5), 32:32')\n",
    "plt.show()\n",
    "print(f'Mean: {mean}, Standard deviation: {std}')"
   ]
  },
  {
   "cell_type": "code",
   "execution_count": 17,
   "metadata": {},
   "outputs": [
    {
     "data": {
      "image/png": "[encoded data removed]",
      "text/plain": [
       "<Figure size 640x480 with 1 Axes>"
      ]
     },
     "metadata": {},
     "output_type": "display_data"
    },
    {
     "name": "stdout",
     "output_type": "stream",
     "text": [
      "Mean: 0.9702476190476191, Standard deviation: 0.07385190733953372\n"
     ]
    }
   ],
   "source": [
    "ratios = greedy_test(RS_sampler_2, trials=1000)\n",
    "mean = np.mean(ratios)\n",
    "std = np.std(ratios)\n",
    "plt.hist(ratios, bins=25)\n",
    "plt.vlines(x=mean, ymin=0, ymax=250, linestyle='dashed', color='red')\n",
    "plt.xlabel('ALG / OPT')\n",
    "plt.title('ER(p=0.5), 16:48')\n",
    "plt.show()\n",
    "print(f'Mean: {mean}, Standard deviation: {std}')"
   ]
  },
  {
   "cell_type": "code",
   "execution_count": 27,
   "metadata": {},
   "outputs": [
    {
     "data": {
      "image/png": "[encoded data removed]",
      "text/plain": [
       "<Figure size 640x480 with 1 Axes>"
      ]
     },
     "metadata": {},
     "output_type": "display_data"
    },
    {
     "name": "stdout",
     "output_type": "stream",
     "text": [
      "Mean: 0.9283429457920056, Standard deviation: 0.019891534550081896\n"
     ]
    }
   ],
   "source": [
    "ratios = greedy_test(BA_sampler_1, trials=1000)\n",
    "mean = np.mean(ratios)\n",
    "std = np.std(ratios)\n",
    "plt.hist(ratios, bins=25)\n",
    "plt.vlines(x=mean, ymin=0, ymax=150, linestyle='dashed', color='red')\n",
    "plt.xlabel('ALG / OPT')\n",
    "plt.show()\n",
    "print(f'Mean: {mean}, Standard deviation: {std}')"
   ]
  },
  {
   "cell_type": "code",
   "execution_count": 10,
   "metadata": {},
   "outputs": [
    {
     "data": {
      "image/png": "[encoded data removed]",
      "text/plain": [
       "<Figure size 640x480 with 1 Axes>"
      ]
     },
     "metadata": {},
     "output_type": "display_data"
    },
    {
     "name": "stdout",
     "output_type": "stream",
     "text": [
      "Mean: 0.9656409966942822, Standard deviation: 0.010876531069067514\n"
     ]
    }
   ],
   "source": [
    "ratios = greedy_test(GEO_sampler_1, trials=1000)\n",
    "mean = np.mean(ratios)\n",
    "std = np.std(ratios)\n",
    "plt.hist(ratios, bins=25)\n",
    "plt.title('GEOM(power=0.5, threshold=0), 32:32')\n",
    "plt.vlines(x=mean, ymin=0, ymax=150, linestyle='dashed', color='red')\n",
    "plt.xlabel('ALG / OPT')\n",
    "plt.show()\n",
    "print(f'Mean: {mean}, Standard deviation: {std}')"
   ]
  },
  {
   "cell_type": "code",
   "execution_count": 11,
   "metadata": {},
   "outputs": [
    {
     "data": {
      "image/png": "[encoded data removed]",
      "text/plain": [
       "<Figure size 640x480 with 1 Axes>"
      ]
     },
     "metadata": {},
     "output_type": "display_data"
    },
    {
     "name": "stdout",
     "output_type": "stream",
     "text": [
      "Mean: 0.9478375497819377, Standard deviation: 0.03688796769778092\n"
     ]
    }
   ],
   "source": [
    "ratios = greedy_test(GEO_sampler_2, trials=1000)\n",
    "mean = np.mean(ratios)\n",
    "std = np.std(ratios)\n",
    "plt.hist(ratios, bins=25)\n",
    "plt.title('GEOM(power=0.5, threshold=0), 16:48')\n",
    "plt.vlines(x=mean, ymin=0, ymax=150, linestyle='dashed', color='red')\n",
    "plt.xlabel('ALG / OPT')\n",
    "plt.show()\n",
    "print(f'Mean: {mean}, Standard deviation: {std}')"
   ]
  },
  {
   "cell_type": "code",
   "execution_count": 34,
   "metadata": {},
   "outputs": [
    {
     "data": {
      "image/png": "[encoded data removed]",
      "text/plain": [
       "<Figure size 640x480 with 1 Axes>"
      ]
     },
     "metadata": {},
     "output_type": "display_data"
    },
    {
     "name": "stdout",
     "output_type": "stream",
     "text": [
      "Mean: 0.9498308071370594, Standard deviation: 0.03448360587568475\n"
     ]
    }
   ],
   "source": [
    "ratios = greedy_test(BA_sampler_2, trials=1000)\n",
    "mean = np.mean(ratios)\n",
    "std = np.std(ratios)\n",
    "plt.hist(ratios, bins=25)\n",
    "plt.vlines(x=mean, ymin=0, ymax=150, linestyle='dashed', color='red')\n",
    "plt.xlabel('ALG / OPT')\n",
    "plt.show()\n",
    "print(f'Mean: {mean}, Standard deviation: {std}')"
   ]
  },
  {
   "cell_type": "code",
   "execution_count": 12,
   "metadata": {
    "collapsed": false
   },
   "outputs": [],
   "source": [
    "\n",
    "\n",
    "\n",
    "def matching_value(samples, predictions, partial = False, match_rest = False, opt_scipy = False):\n",
    "    features = samples.features\n",
    "    gt_matchings = samples.outputs[0].data\n",
    "    # inputs for the matrix A are at index 1 (see spec.py)\n",
    "    data = features.inputs[1].data\n",
    "    masks = features.inputs[3].data\n",
    "    pred_accuracy = 0\n",
    "    greedy_accuracy = 0\n",
    "\n",
    "    #TODO remove\n",
    "    def _add_uniform_weights(adj, low, high):\n",
    "        n, m = adj.shape\n",
    "        weights = np.random.uniform(\n",
    "            low=low, high=high, size=(n, m)\n",
    "        )\n",
    "        return adj * high + low\n",
    "\n",
    "    # Iterating over all the samples\n",
    "    for i in range(data.shape[0]):\n",
    "\n",
    "        if opt_scipy:\n",
    "            row_ind, col_ind = linear_sum_assignment(data[i], maximize = True)\n",
    "            max_weight = data[i][row_ind, col_ind].sum() / 2  #TODO why /2\n",
    "        else:\n",
    "            max_weight = compute_greedy_matching_weight(i, data, masks, gt_matchings[i])\n",
    "\n",
    "        predicted_matching = predictions[\"match\"].data[i]\n",
    "\n",
    "        if partial:\n",
    "            preds_weight = compute_partial_matching_weight(i, data, masks, predicted_matching)\n",
    "            print(f\"opt: {max_weight}, greedy learned: {preds_weight}\")\n",
    "        else:\n",
    "            preds_weight = compute_greedy_matching_weight(i, data, masks, predicted_matching, match_rest = match_rest)\n",
    "            print(f\"opt: {max_weight}, partial: {preds_weight}\")\n",
    "\n",
    "        # assert preds_weight <= max_weight\n",
    "        greedy_matching_weight = naive_greedy(i, data, masks)\n",
    "        print(f\"Naive greedy: {greedy_matching_weight}\")\n",
    "        greedy_accuracy += greedy_matching_weight / max_weight\n",
    "        pred_accuracy += preds_weight / max_weight\n",
    "\n",
    "    return pred_accuracy / data.shape[0], greedy_accuracy / data.shape[0]\n",
    "\n",
    "def naive_greedy(i, data, masks):\n",
    "    \"\"\"Computes a matching greedily by, for each node, adding the maximum neighbor that\n",
    "    hasn't yet been added to the matching\"\"\"\n",
    "\n",
    "    matching_weight = 0\n",
    "    A = data[i]\n",
    "    buyers_mask = masks[i]\n",
    "    n = int(np.sum(buyers_mask))\n",
    "    # At the start, all the right hand side values are possible matches\n",
    "    matching_mask = np.full(A.shape[0], True)\n",
    "\n",
    "    # for buyer in range(n):\n",
    "    #     # Checking if there are more elements to match (if more buyers than goods)\n",
    "    #     if A[buyer, matching_mask].shape[0] != 0:\n",
    "    #         matching_weight += np.max(A[buyer, matching_mask])\n",
    "    #         # Recovering the index of the maximum, inspired by http://seanlaw.github.io/2015/09/10/numpy-argmin-with-a-condition/\n",
    "    #         subset_idx = np.argmax(A[buyer, matching_mask])\n",
    "    #         good = np.arange(A.shape[1])[matching_mask][subset_idx]\n",
    "    #         # The corresponding good cannot be used anymore\n",
    "    #         matching_mask[good] = False\n",
    "\n",
    "    # Second method of computing a greedy matching\n",
    "    # Set of vertices already matched\n",
    "    matching = set()\n",
    "    # Get the indices of the weights in highest to lowest order (hence the negative sign), inspired by https://stackoverflow.com/questions/30577375/have-numpy-argsort-return-an-array-of-2d-indices\n",
    "    indices = np.dstack(np.unravel_index(np.argsort(- A.ravel()), A.shape))\n",
    "    for index in indices[0]:\n",
    "        if index[0] not in matching and index[1] not in matching:\n",
    "            matching_weight += A[tuple(index)]\n",
    "            matching.add(index[0])\n",
    "            matching.add(index[1])\n",
    "\n",
    "\n",
    "    return matching_weight\n",
    "\n",
    "\n",
    "\n",
    "\n",
    "def compute_greedy_matching_weight(i, data, masks, matching, match_rest = False):\n",
    "    matching_weight = 0\n",
    "    A = data[i]\n",
    "    buyers_mask = masks[i]\n",
    "    n = int(np.sum(buyers_mask))\n",
    "    goods_mask = 1 - buyers_mask\n",
    "    m = int(np.sum(goods_mask))\n",
    "\n",
    "    # Only consider the matching values for consumers\n",
    "    matching = np.where(goods_mask == 1, matching, -1)\n",
    "    unmatched_goods = set(range(n, n + m))\n",
    "    unmatched_buyers = set(range(n))\n",
    "\n",
    "    for buyer in range(n):\n",
    "        if buyer in matching:\n",
    "            # If several goods point to the same buyer, keep the one with maximum weight\n",
    "            mask = matching == buyer\n",
    "            matching_weight += np.max(A[buyer, mask])\n",
    "            # Recovering the index of the maximum, inspired by http://seanlaw.github.io/2015/09/10/numpy-argmin-with-a-condition/\n",
    "            subset_idx = np.argmax(A[buyer, mask])\n",
    "            good = np.arange(A.shape[1])[mask][subset_idx]\n",
    "            unmatched_goods.remove(good)\n",
    "            unmatched_buyers.remove(buyer)\n",
    "\n",
    "    if match_rest and len(unmatched_goods) > 0 and len(unmatched_buyers) > 0:\n",
    "        # Compute optimal matching on the remaining unmatched nodes\n",
    "        mask = np.zeros(A.shape)\n",
    "        # TODO this is a horrible solution, there's definitely a prettier solution\n",
    "        mask[list(unmatched_buyers)] += 1\n",
    "        mask[:, list(unmatched_goods)] += 1\n",
    "        mask = np.where(mask == 2, True, False)\n",
    "        remaining_bipartite_graph = A * mask\n",
    "        row_ind, col_ind = linear_sum_assignment(remaining_bipartite_graph, maximize = True)\n",
    "        opt = A[row_ind, col_ind].sum() / 2  #TODO do I always need the division by 2\n",
    "        matching_weight += opt\n",
    "\n",
    "    return matching_weight\n",
    "\n",
    "\n",
    "def compute_partial_matching_weight(i, data, masks, matching):\n",
    "    # Matching is expected to be a (n+m)x(n+m) matrix where each row sums to 1 (weights assigned to other nodes)\n",
    "\n",
    "    matching_weight = 0\n",
    "    A = data[i]\n",
    "    buyers_mask = masks[i]\n",
    "    n = int(np.sum(buyers_mask))\n",
    "    goods_mask = 1 - buyers_mask\n",
    "    m = int(np.sum(goods_mask))\n",
    "\n",
    "    # We only care about the buyer -> good connections\n",
    "    A_submatrix = A[:n, n:n + m]\n",
    "    matching = matching[:n, n:n + m]\n",
    "\n",
    "    max_weight = np.max(np.sum(matching, axis = 0))\n",
    "    print(f\"max weight: {max_weight}\")\n",
    "    matching /= max_weight\n",
    "    return np.sum(matching * A_submatrix)"
   ]
  },
  {
   "cell_type": "code",
   "execution_count": 33,
   "metadata": {
    "collapsed": false
   },
   "outputs": [
    {
     "name": "stdout",
     "output_type": "stream",
     "text": [
      "opt: 16.775895076066313, partial: 3.220332964840669\n",
      "Naive greedy: 16.38833089980494\n",
      "opt: 17.041388924590354, partial: 5.389176576740022\n",
      "Naive greedy: 16.71462991271939\n",
      "opt: 16.80929419967684, partial: 3.5438178327593404\n",
      "Naive greedy: 16.425208914951188\n",
      "opt: 16.139570429470886, partial: 5.62039498094906\n",
      "Naive greedy: 15.946611270770976\n",
      "opt: 16.139570429470886, partial: 5.62039498094906\n",
      "Naive greedy: 15.946611270770976\n",
      "opt: 17.207730737102004, partial: 7.41822909014651\n",
      "Naive greedy: 16.785690307487457\n",
      "opt: 17.764506003836374, partial: 3.742872979485518\n",
      "Naive greedy: 17.257636434355856\n",
      "opt: 16.9849768897249, partial: 4.3769438258620985\n",
      "Naive greedy: 16.615536299071202\n",
      "opt: 16.676841349169717, partial: 5.132432223796465\n",
      "Naive greedy: 16.519391552214316\n",
      "opt: 16.4261106604599, partial: 4.815957222813033\n",
      "Naive greedy: 16.101372008472982\n",
      "opt: 16.78722398438763, partial: 6.663238912264701\n",
      "Naive greedy: 16.54377225333065\n",
      "opt: 17.041388924590354, partial: 5.389176576740022\n",
      "Naive greedy: 16.71462991271939\n",
      "opt: 17.03005993163174, partial: 3.9017025843866784\n",
      "Naive greedy: 16.544221433194302\n",
      "opt: 17.894829968086533, partial: 4.502299432717467\n",
      "Naive greedy: 17.565942198601793\n",
      "opt: 16.78722398438763, partial: 6.663238912264701\n",
      "Naive greedy: 16.54377225333065\n",
      "opt: 16.40633470288698, partial: 6.138057252523486\n",
      "Naive greedy: 16.180755165265523\n",
      "opt: 16.591614277934276, partial: 4.3334173477534215\n",
      "Naive greedy: 16.20460536929247\n",
      "opt: 17.028143824238054, partial: 6.052196811575388\n",
      "Naive greedy: 16.61797516833558\n",
      "opt: 16.775895076066313, partial: 3.220332964840669\n",
      "Naive greedy: 16.38833089980494\n",
      "opt: 16.643518338176733, partial: 6.4735082553974195\n",
      "Naive greedy: 16.510580838082074\n",
      "opt: 16.40633470288698, partial: 6.138057252523486\n",
      "Naive greedy: 16.180755165265523\n",
      "opt: 17.27422088856092, partial: 6.724093194245042\n",
      "Naive greedy: 16.72957987470676\n",
      "opt: 16.643518338176733, partial: 6.4735082553974195\n",
      "Naive greedy: 16.510580838082074\n",
      "opt: 17.471278682724474, partial: 4.58826904874234\n",
      "Naive greedy: 17.010962692936967\n",
      "opt: 17.34936991994788, partial: 3.7471903831492166\n",
      "Naive greedy: 17.23901058853996\n",
      "opt: 17.62426678576047, partial: 3.9251376633630635\n",
      "Naive greedy: 16.9575632805901\n",
      "opt: 16.552684895238336, partial: 4.413506191192758\n",
      "Naive greedy: 15.903325754922172\n",
      "opt: 16.60477700774431, partial: 6.09077799179145\n",
      "Naive greedy: 16.38314441491314\n",
      "opt: 16.486610666023218, partial: 5.797311681052184\n",
      "Naive greedy: 16.152860901981732\n",
      "opt: 18.444419091399734, partial: 4.627838328412693\n",
      "Naive greedy: 18.06886900688361\n",
      "opt: 16.056709562458593, partial: 3.9185180075652646\n",
      "Naive greedy: 15.74808777132951\n",
      "opt: 16.775895076066313, partial: 3.220332964840669\n",
      "Naive greedy: 16.38833089980494\n",
      "opt: 16.78722398438763, partial: 6.663238912264701\n",
      "Naive greedy: 16.54377225333065\n",
      "opt: 18.444419091399734, partial: 4.627838328412693\n",
      "Naive greedy: 18.06886900688361\n",
      "opt: 16.591614277934276, partial: 4.3334173477534215\n",
      "Naive greedy: 16.20460536929247\n",
      "opt: 18.42560064184906, partial: 4.383882211461943\n",
      "Naive greedy: 18.181847695310363\n",
      "opt: 16.670449053422406, partial: 7.457001986006163\n",
      "Naive greedy: 16.36489103381623\n",
      "opt: 16.60477700774431, partial: 6.09077799179145\n",
      "Naive greedy: 16.38314441491314\n",
      "opt: 16.785118916528116, partial: 5.621191033882989\n",
      "Naive greedy: 16.448342400537037\n",
      "opt: 17.762130357521954, partial: 5.724401358367277\n",
      "Naive greedy: 17.46661817342041\n"
     ]
    },
    {
     "data": {
      "text/plain": [
       "(0.3055561630065106, 0.9805124645090437)"
      ]
     },
     "execution_count": 33,
     "metadata": {},
     "output_type": "execute_result"
    }
   ],
   "source": [
    "test_feedback = next(test_sampler)\n",
    "predictions, _ = model.predict(rng_key, test_feedback.features)\n",
    "matching_value(test_feedback, predictions, partial = False, match_rest = False, opt_scipy = True)\n"
   ]
  },
  {
   "cell_type": "code",
   "execution_count": null,
   "metadata": {
    "collapsed": false,
    "pycharm": {
     "is_executing": true
    }
   },
   "outputs": [
    {
     "name": "stdout",
     "output_type": "stream",
     "text": [
      "step = 0 | loss = 5.587885856628418 | val_acc = 0.11328125 | test_acc = 0.021484375\n",
      "step = 10 | loss = 2.453561782836914 | val_acc = 0.36328125 | test_acc = 0.06562500447034836\n",
      "step = 20 | loss = 1.0959182977676392 | val_acc = 0.13671875 | test_acc = 0.05976562574505806\n",
      "step = 30 | loss = 0.6259484887123108 | val_acc = 0.359375 | test_acc = 0.07109375298023224\n",
      "step = 40 | loss = 0.33939117193222046 | val_acc = 0.05078125 | test_acc = 0.05390625074505806\n",
      "step = 50 | loss = 0.2931690514087677 | val_acc = 0.1015625 | test_acc = 0.037109375\n",
      "step = 60 | loss = 0.2331790030002594 | val_acc = 0.625 | test_acc = 0.03398437425494194\n",
      "step = 70 | loss = 0.170087069272995 | val_acc = 0.6640625 | test_acc = 0.2925781309604645\n",
      "step = 80 | loss = 0.13126277923583984 | val_acc = 0.7265625 | test_acc = 0.482421875\n",
      "step = 90 | loss = 0.13931426405906677 | val_acc = 0.7421875 | test_acc = 0.4632812440395355\n",
      "step = 100 | loss = 0.11292165517807007 | val_acc = 0.6953125 | test_acc = 0.48945313692092896\n",
      "step = 110 | loss = 0.15629377961158752 | val_acc = 0.6640625 | test_acc = 0.4671874940395355\n",
      "step = 120 | loss = 0.08396290242671967 | val_acc = 0.8125 | test_acc = 0.4664062559604645\n",
      "step = 130 | loss = 0.09856261312961578 | val_acc = 0.703125 | test_acc = 0.4789062440395355\n",
      "step = 140 | loss = 0.11663111299276352 | val_acc = 0.7734375 | test_acc = 0.4722656309604645\n",
      "step = 150 | loss = 0.0824556052684784 | val_acc = 0.7109375 | test_acc = 0.4898437559604645\n"
     ]
    }
   ],
   "source": [
    "import copy\n",
    "\n",
    "def variation_testing(train_sampler_spec, test_sampler_spec, epochs = 300, model = None, bypass_training = False):\n",
    "    if model is None and bypass_training:\n",
    "        print(\"Need a model to bypass training\")\n",
    "        return\n",
    "\n",
    "\n",
    "    matching_values = []\n",
    "    for train_param, test_param in zip(train_sampler_spec, test_sampler_spec):\n",
    "        test_param['num_samples'] = 40\n",
    "        test_param['batch_size'] = 40\n",
    "        schematics = test_param['schematics']\n",
    "        schematics[0]['length'] = 64\n",
    "        test_param['schematics'] = schematics\n",
    "\n",
    "        test_sampler, _ = samplers(test_param)\n",
    "\n",
    "        if not bypass_training:\n",
    "            train_sampler, spec = samplers(train_param)\n",
    "            model = define_model(spec, train_sampler, model=\"mpnn\")\n",
    "            train(model, epochs, train_sampler, test_sampler)\n",
    "        else:\n",
    "            print(\"Bypassing training\")\n",
    "\n",
    "        test_feedback = next(test_sampler)\n",
    "        predictions, _ = model.predict(rng_key, test_feedback.features)\n",
    "        accuracy = matching_value(test_feedback, predictions, partial = False, match_rest = False, opt_scipy = True)\n",
    "\n",
    "        matching_values.append((train_param, test_param, accuracy))\n",
    "    return model, matching_values\n",
    "\n",
    "weight_params = [{\"low\": 0, \"high\": 0.001},\n",
    "                 {\"low\": 1, \"high\": 1.001},\n",
    "                 {\"low\": 1, \"high\": 1.1},\n",
    "                 {\"low\": 1, \"high\": 2},\n",
    "                 {\"low\": 0, \"high\": 0.1},\n",
    "                 {\"low\": 0, \"high\": 1},\n",
    "                 # {\"low\": 0, \"high\": 10},\n",
    "                 # {\"low\": 0, \"high\": 100},\n",
    "                 # {\"low\": 50, \"high\": 200},\n",
    "                 # {\"low\": 500, \"high\": 2000},\n",
    "                 # {\"low\": 5000, \"high\": 20000}\n",
    "                 ]\n",
    "\n",
    "\n",
    "train_sampler_spec = [\n",
    "    {\n",
    "        'num_samples': 100, 'batch_size': 32,\n",
    "        'schematics': [\n",
    "            {\n",
    "                'generator': 'ER',\n",
    "                'proportion': 1,\n",
    "                'length': 8,\n",
    "                'kwargs': {'low': 0, 'high': 0.001, 'weighted': True}\n",
    "            }\n",
    "        ]\n",
    "    },\n",
    "    {\n",
    "        'num_samples': 100, 'batch_size': 32,\n",
    "        'schematics': [\n",
    "            {\n",
    "                'generator': 'ER',\n",
    "                'proportion': 1,\n",
    "                'length': 8,\n",
    "                'kwargs': {'low': 0, 'high': 0.01, 'weighted': True}\n",
    "            }\n",
    "        ]\n",
    "    },\n",
    "    {\n",
    "        'num_samples': 100, 'batch_size': 32,\n",
    "        'schematics': [\n",
    "            {\n",
    "                'generator': 'ER',\n",
    "                'proportion': 1,\n",
    "                'length': 8,\n",
    "                'kwargs': {'low': 0, 'high': 0.1, 'weighted': True}\n",
    "            }\n",
    "        ]\n",
    "    },\n",
    "    {\n",
    "        'num_samples': 100, 'batch_size': 32,\n",
    "        'schematics': [\n",
    "            {\n",
    "                'generator': 'ER',\n",
    "                'proportion': 1,\n",
    "                'length': 8,\n",
    "                'kwargs': {'low': 0, 'high': 1, 'weighted': True}\n",
    "            }\n",
    "        ]\n",
    "    },\n",
    "    {\n",
    "        'num_samples': 100, 'batch_size': 32,\n",
    "        'schematics': [\n",
    "            {\n",
    "                'generator': 'ER',\n",
    "                'proportion': 1,\n",
    "                'length': 8,\n",
    "                'kwargs': {'low': 0, 'high': 10, 'weighted': True}\n",
    "            }\n",
    "        ]\n",
    "    },\n",
    "    {\n",
    "        'num_samples': 100, 'batch_size': 32,\n",
    "        'schematics': [\n",
    "            {\n",
    "                'generator': 'ER',\n",
    "                'proportion': 1,\n",
    "                'length': 8,\n",
    "                'kwargs': {'low': 0, 'high': 100, 'weighted': True}\n",
    "            }\n",
    "        ]\n",
    "    },\n",
    "]\n",
    "\n",
    "\n",
    "\n",
    "length_training = [{\"generator\": \"ER\"}]\n",
    "length_testing = [{\"generator\": \"ER\", \"length\": 1000, \"p\": 0.01}]\n",
    "\n",
    "\n",
    "\n",
    "\n",
    "model, results = variation_testing(train_sampler_spec, copy.deepcopy(train_sampler_spec), model = model, bypass_training = False)\n",
    "\n",
    "results\n",
    "\n",
    "\n"
   ]
  },
  {
   "cell_type": "code",
   "execution_count": 16,
   "metadata": {
    "collapsed": false
   },
   "outputs": [],
   "source": [
    "# import copy\n",
    "# model2 = copy.deepcopy(model)"
   ]
  },
  {
   "attachments": {},
   "cell_type": "markdown",
   "metadata": {
    "collapsed": false
   },
   "source": [
    "ER p=0.25, 100 8x8 train and 40 32x32 test => 0.94 in 100 iterations\n",
    "\n",
    "BA param=3, 100 8x8 train and 40 32x32 test => 0.97 in 100 iterations\n",
    "\n",
    "BA param=5, 100 8x8 train and 40 32x32 test => 0.95 in 100 iterations (0.951 in 200 so has pretty much converged after 100)\n",
    "\n",
    "BA param=7, 100 8x8 train and 40 32x32 test => 0.946 in 100 iterations\n",
    "\n",
    "#### Cross training\n",
    "BA param=7 to BA param=3\n",
    "\n",
    "BA param=7 to ER p=0.25 0.946 with BA to 0.939 with ER (same as if trained only on BA)\n",
    "\n",
    "ER p=0.25 to BA param=3 went from 0.939 with ER to 0.967 with BA (BA param 3 was 0.97 so basically nothing lost)\n",
    "\n",
    "#### Weight variations\n",
    "Uniform\n",
    "* 0,0.001 -> 0.928\n",
    "* 1,1.001 -> 0.962\n",
    "* 0,0.1 -> 0.931\n",
    "* 0,10 -> 0.883\n",
    "* 0,100 -> 0.77\n",
    "* 50, 200 -> 0.72\n",
    "* 500, 2000 -> 0.69\n",
    "* 5000, 20000 -> 0.7\n",
    "\n",
    "Normal:\n",
    "Basically same.\n",
    "\n",
    "Gumbel\n",
    "* 0,0.001 -> 0.323\n",
    "* 1,1.001 -> 0.849\n",
    "* 0,0.1 -> 0.498\n",
    "* 5,10 -> 0.82\n",
    "* 5,100 -> 0.8\n",
    "\n",
    "#### Weight cross training\n",
    "Train ER p=0.25 unif 0,1:\n",
    "* 0,0.001 -> 0.948\n",
    "* 1,1.001 -> 0.967\n",
    "* 0,0.1 -> 0.916\n",
    "* 0,10 -> 0.86\n",
    "* 0,100 -> 0.75\n",
    "* 50, 200 -> 0.72\n",
    "* 500, 2000 -> 0.72\n",
    "* 5000, 20000 -> 0.69\n",
    "\n",
    "=> Seems to weight generalize quite well. Actually even better because basically no statistical difference with if we trained separately.\n",
    "\n",
    "Train normal 5000, 20000:\n",
    "* 0, 0.001 -> 0.39 (maybe it's the large to small that was a problem here? Also those values make little sense for a normal RV)\n",
    "\n",
    "Other direction train normal 0, 0.001 (got to 0.78):\n",
    "* 5000, 20000 -> 0.76\n",
    "\n",
    "=> small to large seems better\n",
    "\n",
    "\n",
    "#### Larger graphs\n",
    "Same training\n",
    "ER p=0.25 8x8 train:\n",
    "* 100x100 test goes to 0.88\n",
    "* 200x200 goes to 0.63 (only 12 prediction mismatches though)\n",
    "* 200x200 p=0.3 =>\n",
    "* 250x250 => 0.9448 (BUT p=0.1 to not kill my computer)\n",
    "*\n",
    "Try this but 16x16 train\n",
    "\n",
    "#### RIDESHARE\n",
    "8x8 train,\n",
    "* 32x32 test => 0.96\n",
    "* 50x50 test => 0.96\n",
    "* 100x100 test => 0.938\n",
    "* 250x250 test => 0.9\n",
    "\n",
    "#### Double max\n",
    "8x8 train 32x23 test\n",
    "300 iterations gets us to 0.93 as normal max (though normal max takes 100 iterations to get there), 600 iterations gets us to 0.965\n",
    "==> Testing single max on 600 iterations => 0.956\n",
    "==> Testing single max with 64 hidden dim embeddings on 600 iterations 0.96 (already in 200) (seeing if gain is only from more parameters or if double max is actually more aligned)\n",
    "\n",
    "Conclusion, it was mainly due to more iterations + some amount of more parameters but only 1% so probably not statistically significant.\n",
    "\n",
    "#### Training with scaling\n",
    "Train/test with 5000, 200000 weights ==> 0.76 accuracy\n",
    "But if normalize 0, 1 on training (or just train on normalized) ==> 0.91 (same acc as had train/testing on normalized)\n",
    "\n",
    "#### More weight scales training\n",
    "300 epochs for all, 4x4 train, 32x32 test\n",
    "* 0, 1: 0.946, 0.917\n",
    "* 1, 1.01: 0.993, 0.970\n",
    "* 1, 1.001: 0.956, 0.976\n",
    "* 1, 1.1: 0.989, 0.972\n",
    "* 1, 1.2: 0.986, 0.958\n",
    "* 1, 1.5: 0.966, 0.949\n",
    "* 1, 2: 0.957, 0.939\n",
    "* 2, 2.1: 0.9927, 0.9757\n",
    "* 10, 10.001: 0.4, 0.97\n",
    "Realization: shifting just doesn't makes sense (val + 1000) / (opt + 1000) > val / opt\n"
   ]
  },
  {
   "attachments": {},
   "cell_type": "markdown",
   "metadata": {
    "collapsed": false
   },
   "source": [
    "## Preliminary results\n",
    "random permutation/matching: 0.18\n",
    "\n",
    "MPNN:\n",
    "learned predictions: 0.67\n",
    "\n",
    "GAT:\n",
    "learned predictions: 0.72\n",
    "\n",
    "Got better with double ended predictions\n",
    "\n",
    "Partial: 0.64 while greedy was doing about 0.92 on the same instance. Main reason seems to be that max weight is around 1.5 => can get at most 2/3 OPT\n"
   ]
  },
  {
   "attachments": {},
   "cell_type": "markdown",
   "metadata": {
    "collapsed": false
   },
   "source": [
    "### Counting the number of matching constraints violated"
   ]
  },
  {
   "cell_type": "code",
   "execution_count": 27,
   "metadata": {
    "collapsed": false
   },
   "outputs": [
    {
     "name": "stdout",
     "output_type": "stream",
     "text": [
      "average number of edges contradicting matching: 12.2\n"
     ]
    }
   ],
   "source": [
    "# For two-way\n",
    "def count_mismatches_two_way(predictions):\n",
    "    count = 0\n",
    "    data = predictions[\"match\"].data\n",
    "    nb_graphs = data.shape[0]\n",
    "    for datapoint in range(data.shape[0]):\n",
    "        for i in range(32):\n",
    "            owner = data[datapoint][i]\n",
    "            good = data[datapoint][int(owner)]\n",
    "            if good != i:\n",
    "                count += 1\n",
    "    print(f\"average number of edges contradicting matching: {count / nb_graphs}\")"
   ]
  },
  {
   "cell_type": "code",
   "execution_count": 17,
   "metadata": {
    "collapsed": false
   },
   "outputs": [
    {
     "name": "stdout",
     "output_type": "stream",
     "text": [
      "average number of edges contradicting matching: 0.4\n"
     ]
    }
   ],
   "source": [
    "# For self-loops\n",
    "def count_mismatches_self_loop(predictions):\n",
    "    count = 0\n",
    "    data = predictions[\"match\"].data\n",
    "    nb_graphs = data.shape[0]\n",
    "    for datapoint in range(data.shape[0]):\n",
    "        owners = set(np.array(data[datapoint][32:64]))\n",
    "        count += 32 - len(owners)\n",
    "    print(f\"average number of edges contradicting matching: {count / nb_graphs}\")\n"
   ]
  },
  {
   "cell_type": "code",
   "execution_count": 14,
   "metadata": {
    "collapsed": false
   },
   "outputs": [
    {
     "name": "stdout",
     "output_type": "stream",
     "text": [
      "[1 2 2 3]\n"
     ]
    }
   ],
   "source": [
    "a = np.array([1, 2])\n",
    "b = np.array([2, 3])\n",
    "print(np.concatenate((a, b)))"
   ]
  },
  {
   "cell_type": "code",
   "execution_count": null,
   "metadata": {
    "collapsed": false
   },
   "outputs": [],
   "source": []
  }
 ],
 "metadata": {
  "colab": {
   "gpuType": "T4",
   "provenance": []
  },
  "gpuClass": "standard",
  "kernelspec": {
   "display_name": "Python 3",
   "name": "python3"
  },
  "language_info": {
   "codemirror_mode": {
    "name": "ipython",
    "version": 3
   },
   "file_extension": ".py",
   "mimetype": "text/x-python",
   "name": "python",
   "nbconvert_exporter": "python",
   "pygments_lexer": "ipython3",
   "version": "3.11.3"
  }
 },
 "nbformat": 4,
 "nbformat_minor": 0
}
